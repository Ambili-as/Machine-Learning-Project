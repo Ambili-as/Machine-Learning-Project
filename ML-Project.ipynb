{
 "cells": [
  {
   "cell_type": "markdown",
   "id": "be1e387f",
   "metadata": {},
   "source": [
    "## Machine learning - Project\n",
    "\n",
    "### Car Price Analysis\n",
    "Problem Description: A Chinese automobile company aspires to enter the US market by setting up their manufacturing unit there and producing cars locally to give competition to their US and European counterparts. They have contracted an automobile consulting company to understand the factors on which the pricing of cars depends. Specifically, they want to understand the factors affecting the pricing of cars in the American market, since those may be very different from the Chinese market. Essentially, the company wants to know: Which variables are significant in predicting the price of a car How well those variables describe the price of a car Based on various market surveys, the consulting firm has gathered a large dataset of different types of cars across the American market. Business Goal: You are required to model the price of cars with the available independent variables. It will be used by the management to understand how exactly the prices vary with the independent variables. They can accordingly manipulate the design of the cars, the business strategy etc. to meet certain price levels. Further, the model will be a good way for the management to understand the pricing dynamics of a new market."
   ]
  },
  {
   "cell_type": "markdown",
   "id": "725e1ec1",
   "metadata": {},
   "source": [
    "#### 1.Loading and Preprocessing"
   ]
  },
  {
   "cell_type": "code",
   "execution_count": 1,
   "id": "4ab809da",
   "metadata": {},
   "outputs": [],
   "source": [
    "# importing necessary libraries\n",
    "import pandas as pd\n",
    "import numpy as np\n",
    "import seaborn as sns\n",
    "import matplotlib.pyplot as plt"
   ]
  },
  {
   "cell_type": "code",
   "execution_count": 2,
   "id": "f69221ee",
   "metadata": {},
   "outputs": [
    {
     "data": {
      "text/html": [
       "<div>\n",
       "<style scoped>\n",
       "    .dataframe tbody tr th:only-of-type {\n",
       "        vertical-align: middle;\n",
       "    }\n",
       "\n",
       "    .dataframe tbody tr th {\n",
       "        vertical-align: top;\n",
       "    }\n",
       "\n",
       "    .dataframe thead th {\n",
       "        text-align: right;\n",
       "    }\n",
       "</style>\n",
       "<table border=\"1\" class=\"dataframe\">\n",
       "  <thead>\n",
       "    <tr style=\"text-align: right;\">\n",
       "      <th></th>\n",
       "      <th>car_ID</th>\n",
       "      <th>symboling</th>\n",
       "      <th>CarName</th>\n",
       "      <th>fueltype</th>\n",
       "      <th>aspiration</th>\n",
       "      <th>doornumber</th>\n",
       "      <th>carbody</th>\n",
       "      <th>drivewheel</th>\n",
       "      <th>enginelocation</th>\n",
       "      <th>wheelbase</th>\n",
       "      <th>...</th>\n",
       "      <th>enginesize</th>\n",
       "      <th>fuelsystem</th>\n",
       "      <th>boreratio</th>\n",
       "      <th>stroke</th>\n",
       "      <th>compressionratio</th>\n",
       "      <th>horsepower</th>\n",
       "      <th>peakrpm</th>\n",
       "      <th>citympg</th>\n",
       "      <th>highwaympg</th>\n",
       "      <th>price</th>\n",
       "    </tr>\n",
       "  </thead>\n",
       "  <tbody>\n",
       "    <tr>\n",
       "      <th>0</th>\n",
       "      <td>1</td>\n",
       "      <td>3</td>\n",
       "      <td>alfa-romero giulia</td>\n",
       "      <td>gas</td>\n",
       "      <td>std</td>\n",
       "      <td>two</td>\n",
       "      <td>convertible</td>\n",
       "      <td>rwd</td>\n",
       "      <td>front</td>\n",
       "      <td>88.6</td>\n",
       "      <td>...</td>\n",
       "      <td>130</td>\n",
       "      <td>mpfi</td>\n",
       "      <td>3.47</td>\n",
       "      <td>2.68</td>\n",
       "      <td>9.0</td>\n",
       "      <td>111</td>\n",
       "      <td>5000</td>\n",
       "      <td>21</td>\n",
       "      <td>27</td>\n",
       "      <td>13495.0</td>\n",
       "    </tr>\n",
       "    <tr>\n",
       "      <th>1</th>\n",
       "      <td>2</td>\n",
       "      <td>3</td>\n",
       "      <td>alfa-romero stelvio</td>\n",
       "      <td>gas</td>\n",
       "      <td>std</td>\n",
       "      <td>two</td>\n",
       "      <td>convertible</td>\n",
       "      <td>rwd</td>\n",
       "      <td>front</td>\n",
       "      <td>88.6</td>\n",
       "      <td>...</td>\n",
       "      <td>130</td>\n",
       "      <td>mpfi</td>\n",
       "      <td>3.47</td>\n",
       "      <td>2.68</td>\n",
       "      <td>9.0</td>\n",
       "      <td>111</td>\n",
       "      <td>5000</td>\n",
       "      <td>21</td>\n",
       "      <td>27</td>\n",
       "      <td>16500.0</td>\n",
       "    </tr>\n",
       "    <tr>\n",
       "      <th>2</th>\n",
       "      <td>3</td>\n",
       "      <td>1</td>\n",
       "      <td>alfa-romero Quadrifoglio</td>\n",
       "      <td>gas</td>\n",
       "      <td>std</td>\n",
       "      <td>two</td>\n",
       "      <td>hatchback</td>\n",
       "      <td>rwd</td>\n",
       "      <td>front</td>\n",
       "      <td>94.5</td>\n",
       "      <td>...</td>\n",
       "      <td>152</td>\n",
       "      <td>mpfi</td>\n",
       "      <td>2.68</td>\n",
       "      <td>3.47</td>\n",
       "      <td>9.0</td>\n",
       "      <td>154</td>\n",
       "      <td>5000</td>\n",
       "      <td>19</td>\n",
       "      <td>26</td>\n",
       "      <td>16500.0</td>\n",
       "    </tr>\n",
       "    <tr>\n",
       "      <th>3</th>\n",
       "      <td>4</td>\n",
       "      <td>2</td>\n",
       "      <td>audi 100 ls</td>\n",
       "      <td>gas</td>\n",
       "      <td>std</td>\n",
       "      <td>four</td>\n",
       "      <td>sedan</td>\n",
       "      <td>fwd</td>\n",
       "      <td>front</td>\n",
       "      <td>99.8</td>\n",
       "      <td>...</td>\n",
       "      <td>109</td>\n",
       "      <td>mpfi</td>\n",
       "      <td>3.19</td>\n",
       "      <td>3.40</td>\n",
       "      <td>10.0</td>\n",
       "      <td>102</td>\n",
       "      <td>5500</td>\n",
       "      <td>24</td>\n",
       "      <td>30</td>\n",
       "      <td>13950.0</td>\n",
       "    </tr>\n",
       "    <tr>\n",
       "      <th>4</th>\n",
       "      <td>5</td>\n",
       "      <td>2</td>\n",
       "      <td>audi 100ls</td>\n",
       "      <td>gas</td>\n",
       "      <td>std</td>\n",
       "      <td>four</td>\n",
       "      <td>sedan</td>\n",
       "      <td>4wd</td>\n",
       "      <td>front</td>\n",
       "      <td>99.4</td>\n",
       "      <td>...</td>\n",
       "      <td>136</td>\n",
       "      <td>mpfi</td>\n",
       "      <td>3.19</td>\n",
       "      <td>3.40</td>\n",
       "      <td>8.0</td>\n",
       "      <td>115</td>\n",
       "      <td>5500</td>\n",
       "      <td>18</td>\n",
       "      <td>22</td>\n",
       "      <td>17450.0</td>\n",
       "    </tr>\n",
       "    <tr>\n",
       "      <th>...</th>\n",
       "      <td>...</td>\n",
       "      <td>...</td>\n",
       "      <td>...</td>\n",
       "      <td>...</td>\n",
       "      <td>...</td>\n",
       "      <td>...</td>\n",
       "      <td>...</td>\n",
       "      <td>...</td>\n",
       "      <td>...</td>\n",
       "      <td>...</td>\n",
       "      <td>...</td>\n",
       "      <td>...</td>\n",
       "      <td>...</td>\n",
       "      <td>...</td>\n",
       "      <td>...</td>\n",
       "      <td>...</td>\n",
       "      <td>...</td>\n",
       "      <td>...</td>\n",
       "      <td>...</td>\n",
       "      <td>...</td>\n",
       "      <td>...</td>\n",
       "    </tr>\n",
       "    <tr>\n",
       "      <th>200</th>\n",
       "      <td>201</td>\n",
       "      <td>-1</td>\n",
       "      <td>volvo 145e (sw)</td>\n",
       "      <td>gas</td>\n",
       "      <td>std</td>\n",
       "      <td>four</td>\n",
       "      <td>sedan</td>\n",
       "      <td>rwd</td>\n",
       "      <td>front</td>\n",
       "      <td>109.1</td>\n",
       "      <td>...</td>\n",
       "      <td>141</td>\n",
       "      <td>mpfi</td>\n",
       "      <td>3.78</td>\n",
       "      <td>3.15</td>\n",
       "      <td>9.5</td>\n",
       "      <td>114</td>\n",
       "      <td>5400</td>\n",
       "      <td>23</td>\n",
       "      <td>28</td>\n",
       "      <td>16845.0</td>\n",
       "    </tr>\n",
       "    <tr>\n",
       "      <th>201</th>\n",
       "      <td>202</td>\n",
       "      <td>-1</td>\n",
       "      <td>volvo 144ea</td>\n",
       "      <td>gas</td>\n",
       "      <td>turbo</td>\n",
       "      <td>four</td>\n",
       "      <td>sedan</td>\n",
       "      <td>rwd</td>\n",
       "      <td>front</td>\n",
       "      <td>109.1</td>\n",
       "      <td>...</td>\n",
       "      <td>141</td>\n",
       "      <td>mpfi</td>\n",
       "      <td>3.78</td>\n",
       "      <td>3.15</td>\n",
       "      <td>8.7</td>\n",
       "      <td>160</td>\n",
       "      <td>5300</td>\n",
       "      <td>19</td>\n",
       "      <td>25</td>\n",
       "      <td>19045.0</td>\n",
       "    </tr>\n",
       "    <tr>\n",
       "      <th>202</th>\n",
       "      <td>203</td>\n",
       "      <td>-1</td>\n",
       "      <td>volvo 244dl</td>\n",
       "      <td>gas</td>\n",
       "      <td>std</td>\n",
       "      <td>four</td>\n",
       "      <td>sedan</td>\n",
       "      <td>rwd</td>\n",
       "      <td>front</td>\n",
       "      <td>109.1</td>\n",
       "      <td>...</td>\n",
       "      <td>173</td>\n",
       "      <td>mpfi</td>\n",
       "      <td>3.58</td>\n",
       "      <td>2.87</td>\n",
       "      <td>8.8</td>\n",
       "      <td>134</td>\n",
       "      <td>5500</td>\n",
       "      <td>18</td>\n",
       "      <td>23</td>\n",
       "      <td>21485.0</td>\n",
       "    </tr>\n",
       "    <tr>\n",
       "      <th>203</th>\n",
       "      <td>204</td>\n",
       "      <td>-1</td>\n",
       "      <td>volvo 246</td>\n",
       "      <td>diesel</td>\n",
       "      <td>turbo</td>\n",
       "      <td>four</td>\n",
       "      <td>sedan</td>\n",
       "      <td>rwd</td>\n",
       "      <td>front</td>\n",
       "      <td>109.1</td>\n",
       "      <td>...</td>\n",
       "      <td>145</td>\n",
       "      <td>idi</td>\n",
       "      <td>3.01</td>\n",
       "      <td>3.40</td>\n",
       "      <td>23.0</td>\n",
       "      <td>106</td>\n",
       "      <td>4800</td>\n",
       "      <td>26</td>\n",
       "      <td>27</td>\n",
       "      <td>22470.0</td>\n",
       "    </tr>\n",
       "    <tr>\n",
       "      <th>204</th>\n",
       "      <td>205</td>\n",
       "      <td>-1</td>\n",
       "      <td>volvo 264gl</td>\n",
       "      <td>gas</td>\n",
       "      <td>turbo</td>\n",
       "      <td>four</td>\n",
       "      <td>sedan</td>\n",
       "      <td>rwd</td>\n",
       "      <td>front</td>\n",
       "      <td>109.1</td>\n",
       "      <td>...</td>\n",
       "      <td>141</td>\n",
       "      <td>mpfi</td>\n",
       "      <td>3.78</td>\n",
       "      <td>3.15</td>\n",
       "      <td>9.5</td>\n",
       "      <td>114</td>\n",
       "      <td>5400</td>\n",
       "      <td>19</td>\n",
       "      <td>25</td>\n",
       "      <td>22625.0</td>\n",
       "    </tr>\n",
       "  </tbody>\n",
       "</table>\n",
       "<p>205 rows × 26 columns</p>\n",
       "</div>"
      ],
      "text/plain": [
       "     car_ID  symboling                   CarName fueltype aspiration  \\\n",
       "0         1          3        alfa-romero giulia      gas        std   \n",
       "1         2          3       alfa-romero stelvio      gas        std   \n",
       "2         3          1  alfa-romero Quadrifoglio      gas        std   \n",
       "3         4          2               audi 100 ls      gas        std   \n",
       "4         5          2                audi 100ls      gas        std   \n",
       "..      ...        ...                       ...      ...        ...   \n",
       "200     201         -1           volvo 145e (sw)      gas        std   \n",
       "201     202         -1               volvo 144ea      gas      turbo   \n",
       "202     203         -1               volvo 244dl      gas        std   \n",
       "203     204         -1                 volvo 246   diesel      turbo   \n",
       "204     205         -1               volvo 264gl      gas      turbo   \n",
       "\n",
       "    doornumber      carbody drivewheel enginelocation  wheelbase  ...  \\\n",
       "0          two  convertible        rwd          front       88.6  ...   \n",
       "1          two  convertible        rwd          front       88.6  ...   \n",
       "2          two    hatchback        rwd          front       94.5  ...   \n",
       "3         four        sedan        fwd          front       99.8  ...   \n",
       "4         four        sedan        4wd          front       99.4  ...   \n",
       "..         ...          ...        ...            ...        ...  ...   \n",
       "200       four        sedan        rwd          front      109.1  ...   \n",
       "201       four        sedan        rwd          front      109.1  ...   \n",
       "202       four        sedan        rwd          front      109.1  ...   \n",
       "203       four        sedan        rwd          front      109.1  ...   \n",
       "204       four        sedan        rwd          front      109.1  ...   \n",
       "\n",
       "     enginesize  fuelsystem  boreratio  stroke compressionratio horsepower  \\\n",
       "0           130        mpfi       3.47    2.68              9.0        111   \n",
       "1           130        mpfi       3.47    2.68              9.0        111   \n",
       "2           152        mpfi       2.68    3.47              9.0        154   \n",
       "3           109        mpfi       3.19    3.40             10.0        102   \n",
       "4           136        mpfi       3.19    3.40              8.0        115   \n",
       "..          ...         ...        ...     ...              ...        ...   \n",
       "200         141        mpfi       3.78    3.15              9.5        114   \n",
       "201         141        mpfi       3.78    3.15              8.7        160   \n",
       "202         173        mpfi       3.58    2.87              8.8        134   \n",
       "203         145         idi       3.01    3.40             23.0        106   \n",
       "204         141        mpfi       3.78    3.15              9.5        114   \n",
       "\n",
       "     peakrpm citympg  highwaympg    price  \n",
       "0       5000      21          27  13495.0  \n",
       "1       5000      21          27  16500.0  \n",
       "2       5000      19          26  16500.0  \n",
       "3       5500      24          30  13950.0  \n",
       "4       5500      18          22  17450.0  \n",
       "..       ...     ...         ...      ...  \n",
       "200     5400      23          28  16845.0  \n",
       "201     5300      19          25  19045.0  \n",
       "202     5500      18          23  21485.0  \n",
       "203     4800      26          27  22470.0  \n",
       "204     5400      19          25  22625.0  \n",
       "\n",
       "[205 rows x 26 columns]"
      ]
     },
     "execution_count": 2,
     "metadata": {},
     "output_type": "execute_result"
    }
   ],
   "source": [
    "# Loading the dataset\n",
    "df = pd.read_csv(r\"C:\\Users\\user\\Desktop\\CarPrice_Assignment.csv\")\n",
    "df"
   ]
  },
  {
   "cell_type": "code",
   "execution_count": 3,
   "id": "f0317682",
   "metadata": {},
   "outputs": [
    {
     "data": {
      "text/plain": [
       "(205, 26)"
      ]
     },
     "execution_count": 3,
     "metadata": {},
     "output_type": "execute_result"
    }
   ],
   "source": [
    "df.shape"
   ]
  },
  {
   "cell_type": "code",
   "execution_count": 4,
   "id": "95ed0c62",
   "metadata": {},
   "outputs": [
    {
     "name": "stdout",
     "output_type": "stream",
     "text": [
      "<class 'pandas.core.frame.DataFrame'>\n",
      "RangeIndex: 205 entries, 0 to 204\n",
      "Data columns (total 26 columns):\n",
      " #   Column            Non-Null Count  Dtype  \n",
      "---  ------            --------------  -----  \n",
      " 0   car_ID            205 non-null    int64  \n",
      " 1   symboling         205 non-null    int64  \n",
      " 2   CarName           205 non-null    object \n",
      " 3   fueltype          205 non-null    object \n",
      " 4   aspiration        205 non-null    object \n",
      " 5   doornumber        205 non-null    object \n",
      " 6   carbody           205 non-null    object \n",
      " 7   drivewheel        205 non-null    object \n",
      " 8   enginelocation    205 non-null    object \n",
      " 9   wheelbase         205 non-null    float64\n",
      " 10  carlength         205 non-null    float64\n",
      " 11  carwidth          205 non-null    float64\n",
      " 12  carheight         205 non-null    float64\n",
      " 13  curbweight        205 non-null    int64  \n",
      " 14  enginetype        205 non-null    object \n",
      " 15  cylindernumber    205 non-null    object \n",
      " 16  enginesize        205 non-null    int64  \n",
      " 17  fuelsystem        205 non-null    object \n",
      " 18  boreratio         205 non-null    float64\n",
      " 19  stroke            205 non-null    float64\n",
      " 20  compressionratio  205 non-null    float64\n",
      " 21  horsepower        205 non-null    int64  \n",
      " 22  peakrpm           205 non-null    int64  \n",
      " 23  citympg           205 non-null    int64  \n",
      " 24  highwaympg        205 non-null    int64  \n",
      " 25  price             205 non-null    float64\n",
      "dtypes: float64(8), int64(8), object(10)\n",
      "memory usage: 41.8+ KB\n"
     ]
    }
   ],
   "source": [
    "df.info()"
   ]
  },
  {
   "cell_type": "code",
   "execution_count": 5,
   "id": "122b4a73",
   "metadata": {},
   "outputs": [
    {
     "data": {
      "text/plain": [
       "Index(['car_ID', 'symboling', 'CarName', 'fueltype', 'aspiration',\n",
       "       'doornumber', 'carbody', 'drivewheel', 'enginelocation', 'wheelbase',\n",
       "       'carlength', 'carwidth', 'carheight', 'curbweight', 'enginetype',\n",
       "       'cylindernumber', 'enginesize', 'fuelsystem', 'boreratio', 'stroke',\n",
       "       'compressionratio', 'horsepower', 'peakrpm', 'citympg', 'highwaympg',\n",
       "       'price'],\n",
       "      dtype='object')"
      ]
     },
     "execution_count": 5,
     "metadata": {},
     "output_type": "execute_result"
    }
   ],
   "source": [
    "df.columns"
   ]
  },
  {
   "cell_type": "code",
   "execution_count": 6,
   "id": "597a08f6",
   "metadata": {},
   "outputs": [
    {
     "data": {
      "text/plain": [
       "car_ID              0\n",
       "symboling           0\n",
       "CarName             0\n",
       "fueltype            0\n",
       "aspiration          0\n",
       "doornumber          0\n",
       "carbody             0\n",
       "drivewheel          0\n",
       "enginelocation      0\n",
       "wheelbase           0\n",
       "carlength           0\n",
       "carwidth            0\n",
       "carheight           0\n",
       "curbweight          0\n",
       "enginetype          0\n",
       "cylindernumber      0\n",
       "enginesize          0\n",
       "fuelsystem          0\n",
       "boreratio           0\n",
       "stroke              0\n",
       "compressionratio    0\n",
       "horsepower          0\n",
       "peakrpm             0\n",
       "citympg             0\n",
       "highwaympg          0\n",
       "price               0\n",
       "dtype: int64"
      ]
     },
     "execution_count": 6,
     "metadata": {},
     "output_type": "execute_result"
    }
   ],
   "source": [
    "# cheching the missing values\n",
    "df.isnull().sum()"
   ]
  },
  {
   "cell_type": "markdown",
   "id": "035306cc",
   "metadata": {},
   "source": [
    "No Null values present in the dataset"
   ]
  },
  {
   "cell_type": "code",
   "execution_count": 7,
   "id": "ddef533f",
   "metadata": {},
   "outputs": [
    {
     "data": {
      "text/plain": [
       "0"
      ]
     },
     "execution_count": 7,
     "metadata": {},
     "output_type": "execute_result"
    }
   ],
   "source": [
    "#Checking for duplicated values\n",
    "df.duplicated().sum()"
   ]
  },
  {
   "cell_type": "code",
   "execution_count": 8,
   "id": "544893d3",
   "metadata": {},
   "outputs": [
    {
     "name": "stderr",
     "output_type": "stream",
     "text": [
      "C:\\Users\\user\\AppData\\Local\\Temp\\ipykernel_38260\\1325932328.py:2: FutureWarning: Dropping of nuisance columns in DataFrame reductions (with 'numeric_only=None') is deprecated; in a future version this will raise TypeError.  Select only valid columns before calling the reduction.\n",
      "  df.skew()\n"
     ]
    },
    {
     "data": {
      "text/plain": [
       "car_ID              0.000000\n",
       "symboling           0.211072\n",
       "wheelbase           1.050214\n",
       "carlength           0.155954\n",
       "carwidth            0.904003\n",
       "carheight           0.063123\n",
       "curbweight          0.681398\n",
       "enginesize          1.947655\n",
       "boreratio           0.020156\n",
       "stroke             -0.689705\n",
       "compressionratio    2.610862\n",
       "horsepower          1.405310\n",
       "peakrpm             0.075159\n",
       "citympg             0.663704\n",
       "highwaympg          0.539997\n",
       "price               1.777678\n",
       "dtype: float64"
      ]
     },
     "execution_count": 8,
     "metadata": {},
     "output_type": "execute_result"
    }
   ],
   "source": [
    "#finding skewness \n",
    "df.skew()"
   ]
  },
  {
   "cell_type": "code",
   "execution_count": 9,
   "id": "62b7c2a1",
   "metadata": {},
   "outputs": [
    {
     "data": {
      "image/png": "[encoded data removed]",
      "text/plain": [
       "<Figure size 576x288 with 1 Axes>"
      ]
     },
     "metadata": {
      "needs_background": "light"
     },
     "output_type": "display_data"
    },
    {
     "data": {
      "image/png": "[encoded data removed]",
      "text/plain": [
       "<Figure size 576x288 with 1 Axes>"
      ]
     },
     "metadata": {
      "needs_background": "light"
     },
     "output_type": "display_data"
    },
    {
     "data": {
      "image/png": "[encoded data removed]",
      "text/plain": [
       "<Figure size 576x288 with 1 Axes>"
      ]
     },
     "metadata": {
      "needs_background": "light"
     },
     "output_type": "display_data"
    },
    {
     "data": {
      "image/png": "[encoded data removed]",
      "text/plain": [
       "<Figure size 576x288 with 1 Axes>"
      ]
     },
     "metadata": {
      "needs_background": "light"
     },
     "output_type": "display_data"
    },
    {
     "data": {
      "image/png": "[encoded data removed]",
      "text/plain": [
       "<Figure size 576x288 with 1 Axes>"
      ]
     },
     "metadata": {
      "needs_background": "light"
     },
     "output_type": "display_data"
    },
    {
     "data": {
      "image/png": "[encoded data removed]",
      "text/plain": [
       "<Figure size 576x288 with 1 Axes>"
      ]
     },
     "metadata": {
      "needs_background": "light"
     },
     "output_type": "display_data"
    },
    {
     "data": {
      "image/png": "[encoded data removed]",
      "text/plain": [
       "<Figure size 576x288 with 1 Axes>"
      ]
     },
     "metadata": {
      "needs_background": "light"
     },
     "output_type": "display_data"
    },
    {
     "data": {
      "image/png": "[encoded data removed]",
      "text/plain": [
       "<Figure size 576x288 with 1 Axes>"
      ]
     },
     "metadata": {
      "needs_background": "light"
     },
     "output_type": "display_data"
    },
    {
     "data": {
      "image/png": "[encoded data removed]",
      "text/plain": [
       "<Figure size 576x288 with 1 Axes>"
      ]
     },
     "metadata": {
      "needs_background": "light"
     },
     "output_type": "display_data"
    },
    {
     "data": {
      "image/png": "[encoded data removed]",
      "text/plain": [
       "<Figure size 576x288 with 1 Axes>"
      ]
     },
     "metadata": {
      "needs_background": "light"
     },
     "output_type": "display_data"
    },
    {
     "data": {
      "image/png": "[encoded data removed]",
      "text/plain": [
       "<Figure size 576x288 with 1 Axes>"
      ]
     },
     "metadata": {
      "needs_background": "light"
     },
     "output_type": "display_data"
    },
    {
     "data": {
      "image/png": "[encoded data removed]",
      "text/plain": [
       "<Figure size 576x288 with 1 Axes>"
      ]
     },
     "metadata": {
      "needs_background": "light"
     },
     "output_type": "display_data"
    },
    {
     "data": {
      "image/png": "[encoded data removed]",
      "text/plain": [
       "<Figure size 576x288 with 1 Axes>"
      ]
     },
     "metadata": {
      "needs_background": "light"
     },
     "output_type": "display_data"
    },
    {
     "data": {
      "image/png": "[encoded data removed]",
      "text/plain": [
       "<Figure size 576x288 with 1 Axes>"
      ]
     },
     "metadata": {
      "needs_background": "light"
     },
     "output_type": "display_data"
    },
    {
     "data": {
      "image/png": "[encoded data removed]",
      "text/plain": [
       "<Figure size 576x288 with 1 Axes>"
      ]
     },
     "metadata": {
      "needs_background": "light"
     },
     "output_type": "display_data"
    },
    {
     "data": {
      "image/png": "[encoded data removed]",
      "text/plain": [
       "<Figure size 576x288 with 1 Axes>"
      ]
     },
     "metadata": {
      "needs_background": "light"
     },
     "output_type": "display_data"
    }
   ],
   "source": [
    "#Visualizing the data using boxplot for numerical columns\n",
    "num = df.select_dtypes(include = ['float64','int64']).columns\n",
    "for column in num:\n",
    "    plt.figure(figsize=(8,4))\n",
    "    sns.boxplot(y=df[column])\n",
    "    plt.title(column)\n",
    "    plt.show()"
   ]
  },
  {
   "cell_type": "markdown",
   "id": "7fd4be5d",
   "metadata": {},
   "source": [
    "From the boxplots obtained , some columns have outliers. Lets find and remove outliers using IQR method"
   ]
  },
  {
   "cell_type": "code",
   "execution_count": 10,
   "id": "279c6de3",
   "metadata": {},
   "outputs": [
    {
     "name": "stdout",
     "output_type": "stream",
     "text": [
      "Outliers in  car_ID : Empty DataFrame\n",
      "Columns: [car_ID, symboling, CarName, fueltype, aspiration, doornumber, carbody, drivewheel, enginelocation, wheelbase, carlength, carwidth, carheight, curbweight, enginetype, cylindernumber, enginesize, fuelsystem, boreratio, stroke, compressionratio, horsepower, peakrpm, citympg, highwaympg, price]\n",
      "Index: []\n",
      "\n",
      "[0 rows x 26 columns]\n",
      "Outliers in  symboling : Empty DataFrame\n",
      "Columns: [car_ID, symboling, CarName, fueltype, aspiration, doornumber, carbody, drivewheel, enginelocation, wheelbase, carlength, carwidth, carheight, curbweight, enginetype, cylindernumber, enginesize, fuelsystem, boreratio, stroke, compressionratio, horsepower, peakrpm, citympg, highwaympg, price]\n",
      "Index: []\n",
      "\n",
      "[0 rows x 26 columns]\n",
      "Outliers in  wheelbase :     car_ID  symboling                  CarName fueltype aspiration doornumber  \\\n",
      "70      71         -1            buick skyhawk   diesel      turbo       four   \n",
      "71      72         -1  buick opel isuzu deluxe      gas        std       four   \n",
      "73      74          0    buick century special      gas        std       four   \n",
      "\n",
      "   carbody drivewheel enginelocation  wheelbase  ...  enginesize  fuelsystem  \\\n",
      "70   sedan        rwd          front      115.6  ...         183         idi   \n",
      "71   sedan        rwd          front      115.6  ...         234        mpfi   \n",
      "73   sedan        rwd          front      120.9  ...         308        mpfi   \n",
      "\n",
      "    boreratio  stroke compressionratio horsepower  peakrpm citympg  \\\n",
      "70       3.58    3.64             21.5        123     4350      22   \n",
      "71       3.46    3.10              8.3        155     4750      16   \n",
      "73       3.80    3.35              8.0        184     4500      14   \n",
      "\n",
      "    highwaympg    price  \n",
      "70          25  31600.0  \n",
      "71          18  34184.0  \n",
      "73          16  40960.0  \n",
      "\n",
      "[3 rows x 26 columns]\n",
      "Outliers in  carlength :     car_ID  symboling           CarName fueltype aspiration doornumber  \\\n",
      "18      19          2  chevrolet impala      gas        std        two   \n",
      "\n",
      "      carbody drivewheel enginelocation  wheelbase  ...  enginesize  \\\n",
      "18  hatchback        fwd          front       88.4  ...          61   \n",
      "\n",
      "    fuelsystem  boreratio  stroke compressionratio horsepower  peakrpm  \\\n",
      "18        2bbl       2.91    3.03              9.5         48     5100   \n",
      "\n",
      "   citympg  highwaympg   price  \n",
      "18      47          53  5151.0  \n",
      "\n",
      "[1 rows x 26 columns]\n",
      "Outliers in  carwidth :      car_ID  symboling                          CarName fueltype aspiration  \\\n",
      "6         7          1                       audi 100ls      gas        std   \n",
      "7         8          1                        audi 5000      gas        std   \n",
      "8         9          1                        audi 4000      gas      turbo   \n",
      "70       71         -1                    buick skyhawk   diesel      turbo   \n",
      "71       72         -1          buick opel isuzu deluxe      gas        std   \n",
      "73       74          0            buick century special      gas        std   \n",
      "74       75          1  buick regal sport coupe (turbo)      gas        std   \n",
      "129     130          1                  porsche cayenne      gas        std   \n",
      "\n",
      "    doornumber    carbody drivewheel enginelocation  wheelbase  ...  \\\n",
      "6         four      sedan        fwd          front      105.8  ...   \n",
      "7         four      wagon        fwd          front      105.8  ...   \n",
      "8         four      sedan        fwd          front      105.8  ...   \n",
      "70        four      sedan        rwd          front      115.6  ...   \n",
      "71        four      sedan        rwd          front      115.6  ...   \n",
      "73        four      sedan        rwd          front      120.9  ...   \n",
      "74         two    hardtop        rwd          front      112.0  ...   \n",
      "129        two  hatchback        rwd          front       98.4  ...   \n",
      "\n",
      "     enginesize  fuelsystem  boreratio  stroke compressionratio horsepower  \\\n",
      "6           136        mpfi       3.19    3.40              8.5        110   \n",
      "7           136        mpfi       3.19    3.40              8.5        110   \n",
      "8           131        mpfi       3.13    3.40              8.3        140   \n",
      "70          183         idi       3.58    3.64             21.5        123   \n",
      "71          234        mpfi       3.46    3.10              8.3        155   \n",
      "73          308        mpfi       3.80    3.35              8.0        184   \n",
      "74          304        mpfi       3.80    3.35              8.0        184   \n",
      "129         203        mpfi       3.94    3.11             10.0        288   \n",
      "\n",
      "     peakrpm citympg  highwaympg    price  \n",
      "6       5500      19          25  17710.0  \n",
      "7       5500      19          25  18920.0  \n",
      "8       5500      17          20  23875.0  \n",
      "70      4350      22          25  31600.0  \n",
      "71      4750      16          18  34184.0  \n",
      "73      4500      14          16  40960.0  \n",
      "74      4500      14          16  45400.0  \n",
      "129     5750      17          28  31400.5  \n",
      "\n",
      "[8 rows x 26 columns]\n",
      "Outliers in  carheight : Empty DataFrame\n",
      "Columns: [car_ID, symboling, CarName, fueltype, aspiration, doornumber, carbody, drivewheel, enginelocation, wheelbase, carlength, carwidth, carheight, curbweight, enginetype, cylindernumber, enginesize, fuelsystem, boreratio, stroke, compressionratio, horsepower, peakrpm, citympg, highwaympg, price]\n",
      "Index: []\n",
      "\n",
      "[0 rows x 26 columns]\n",
      "Outliers in  curbweight : Empty DataFrame\n",
      "Columns: [car_ID, symboling, CarName, fueltype, aspiration, doornumber, carbody, drivewheel, enginelocation, wheelbase, carlength, carwidth, carheight, curbweight, enginetype, cylindernumber, enginesize, fuelsystem, boreratio, stroke, compressionratio, horsepower, peakrpm, citympg, highwaympg, price]\n",
      "Index: []\n",
      "\n",
      "[0 rows x 26 columns]\n",
      "Outliers in  enginesize :     car_ID  symboling                          CarName fueltype aspiration  \\\n",
      "15      16          0                           bmw x4      gas        std   \n",
      "16      17          0                           bmw x5      gas        std   \n",
      "17      18          0                           bmw x3      gas        std   \n",
      "47      48          0                        jaguar xj      gas        std   \n",
      "48      49          0                        jaguar xf      gas        std   \n",
      "49      50          0                        jaguar xk      gas        std   \n",
      "71      72         -1          buick opel isuzu deluxe      gas        std   \n",
      "72      73          3                    buick skylark      gas        std   \n",
      "73      74          0            buick century special      gas        std   \n",
      "74      75          1  buick regal sport coupe (turbo)      gas        std   \n",
      "\n",
      "   doornumber      carbody drivewheel enginelocation  wheelbase  ...  \\\n",
      "15       four        sedan        rwd          front      103.5  ...   \n",
      "16        two        sedan        rwd          front      103.5  ...   \n",
      "17       four        sedan        rwd          front      110.0  ...   \n",
      "47       four        sedan        rwd          front      113.0  ...   \n",
      "48       four        sedan        rwd          front      113.0  ...   \n",
      "49        two        sedan        rwd          front      102.0  ...   \n",
      "71       four        sedan        rwd          front      115.6  ...   \n",
      "72        two  convertible        rwd          front       96.6  ...   \n",
      "73       four        sedan        rwd          front      120.9  ...   \n",
      "74        two      hardtop        rwd          front      112.0  ...   \n",
      "\n",
      "    enginesize  fuelsystem  boreratio  stroke compressionratio horsepower  \\\n",
      "15         209        mpfi       3.62    3.39              8.0        182   \n",
      "16         209        mpfi       3.62    3.39              8.0        182   \n",
      "17         209        mpfi       3.62    3.39              8.0        182   \n",
      "47         258        mpfi       3.63    4.17              8.1        176   \n",
      "48         258        mpfi       3.63    4.17              8.1        176   \n",
      "49         326        mpfi       3.54    2.76             11.5        262   \n",
      "71         234        mpfi       3.46    3.10              8.3        155   \n",
      "72         234        mpfi       3.46    3.10              8.3        155   \n",
      "73         308        mpfi       3.80    3.35              8.0        184   \n",
      "74         304        mpfi       3.80    3.35              8.0        184   \n",
      "\n",
      "    peakrpm citympg  highwaympg    price  \n",
      "15     5400      16          22  30760.0  \n",
      "16     5400      16          22  41315.0  \n",
      "17     5400      15          20  36880.0  \n",
      "47     4750      15          19  32250.0  \n",
      "48     4750      15          19  35550.0  \n",
      "49     5000      13          17  36000.0  \n",
      "71     4750      16          18  34184.0  \n",
      "72     4750      16          18  35056.0  \n",
      "73     4500      14          16  40960.0  \n",
      "74     4500      14          16  45400.0  \n",
      "\n",
      "[10 rows x 26 columns]\n",
      "Outliers in  boreratio : Empty DataFrame\n",
      "Columns: [car_ID, symboling, CarName, fueltype, aspiration, doornumber, carbody, drivewheel, enginelocation, wheelbase, carlength, carwidth, carheight, curbweight, enginetype, cylindernumber, enginesize, fuelsystem, boreratio, stroke, compressionratio, horsepower, peakrpm, citympg, highwaympg, price]\n",
      "Index: []\n",
      "\n",
      "[0 rows x 26 columns]\n",
      "Outliers in  stroke :      car_ID  symboling                    CarName fueltype aspiration  \\\n",
      "29       30          3  dodge coronet custom (sw)      gas      turbo   \n",
      "47       48          0                  jaguar xj      gas        std   \n",
      "48       49          0                  jaguar xf      gas        std   \n",
      "111     112          0                peugeot 504      gas        std   \n",
      "113     114          0                peugeot 504      gas        std   \n",
      "130     131          0               renault 12tl      gas        std   \n",
      "131     132          2              renault 5 gtl      gas        std   \n",
      "134     135          3                  saab 99le      gas        std   \n",
      "138     139          2                     subaru      gas        std   \n",
      "139     140          2                  subaru dl      gas        std   \n",
      "140     141          2                  subaru dl      gas        std   \n",
      "141     142          0                     subaru      gas        std   \n",
      "142     143          0                 subaru brz      gas        std   \n",
      "143     144          0                subaru baja      gas        std   \n",
      "144     145          0                  subaru r1      gas        std   \n",
      "145     146          0                  subaru r2      gas      turbo   \n",
      "146     147          0              subaru trezia      gas        std   \n",
      "147     148          0             subaru tribeca      gas        std   \n",
      "148     149          0                  subaru dl      gas        std   \n",
      "149     150          0                  subaru dl      gas      turbo   \n",
      "\n",
      "    doornumber    carbody drivewheel enginelocation  wheelbase  ...  \\\n",
      "29         two  hatchback        fwd          front       95.9  ...   \n",
      "47        four      sedan        rwd          front      113.0  ...   \n",
      "48        four      sedan        rwd          front      113.0  ...   \n",
      "111       four      sedan        rwd          front      107.9  ...   \n",
      "113       four      wagon        rwd          front      114.2  ...   \n",
      "130       four      wagon        fwd          front       96.1  ...   \n",
      "131        two  hatchback        fwd          front       96.1  ...   \n",
      "134        two  hatchback        fwd          front       99.1  ...   \n",
      "138        two  hatchback        fwd          front       93.7  ...   \n",
      "139        two  hatchback        fwd          front       93.7  ...   \n",
      "140        two  hatchback        4wd          front       93.3  ...   \n",
      "141       four      sedan        fwd          front       97.2  ...   \n",
      "142       four      sedan        fwd          front       97.2  ...   \n",
      "143       four      sedan        fwd          front       97.2  ...   \n",
      "144       four      sedan        4wd          front       97.0  ...   \n",
      "145       four      sedan        4wd          front       97.0  ...   \n",
      "146       four      wagon        fwd          front       97.0  ...   \n",
      "147       four      wagon        fwd          front       97.0  ...   \n",
      "148       four      wagon        4wd          front       96.9  ...   \n",
      "149       four      wagon        4wd          front       96.9  ...   \n",
      "\n",
      "     enginesize  fuelsystem  boreratio  stroke compressionratio horsepower  \\\n",
      "29          156         mfi       3.60    3.90              7.0        145   \n",
      "47          258        mpfi       3.63    4.17              8.1        176   \n",
      "48          258        mpfi       3.63    4.17              8.1        176   \n",
      "111         120        mpfi       3.46    2.19              8.4         95   \n",
      "113         120        mpfi       3.46    2.19              8.4         95   \n",
      "130         132        mpfi       3.46    3.90              8.7         90   \n",
      "131         132        mpfi       3.46    3.90              8.7         90   \n",
      "134         121        mpfi       2.54    2.07              9.3        110   \n",
      "138          97        2bbl       3.62    2.36              9.0         69   \n",
      "139         108        2bbl       3.62    2.64              8.7         73   \n",
      "140         108        2bbl       3.62    2.64              8.7         73   \n",
      "141         108        2bbl       3.62    2.64              9.5         82   \n",
      "142         108        2bbl       3.62    2.64              9.5         82   \n",
      "143         108        mpfi       3.62    2.64              9.0         94   \n",
      "144         108        2bbl       3.62    2.64              9.0         82   \n",
      "145         108        mpfi       3.62    2.64              7.7        111   \n",
      "146         108        2bbl       3.62    2.64              9.0         82   \n",
      "147         108        mpfi       3.62    2.64              9.0         94   \n",
      "148         108        2bbl       3.62    2.64              9.0         82   \n",
      "149         108        mpfi       3.62    2.64              7.7        111   \n",
      "\n",
      "     peakrpm citympg  highwaympg    price  \n",
      "29      5000      19          24  12964.0  \n",
      "47      4750      15          19  32250.0  \n",
      "48      4750      15          19  35550.0  \n",
      "111     5000      19          24  15580.0  \n",
      "113     5000      19          24  16695.0  \n",
      "130     5100      23          31   9295.0  \n",
      "131     5100      23          31   9895.0  \n",
      "134     5250      21          28  15040.0  \n",
      "138     4900      31          36   5118.0  \n",
      "139     4400      26          31   7053.0  \n",
      "140     4400      26          31   7603.0  \n",
      "141     4800      32          37   7126.0  \n",
      "142     4400      28          33   7775.0  \n",
      "143     5200      26          32   9960.0  \n",
      "144     4800      24          25   9233.0  \n",
      "145     4800      24          29  11259.0  \n",
      "146     4800      28          32   7463.0  \n",
      "147     5200      25          31  10198.0  \n",
      "148     4800      23          29   8013.0  \n",
      "149     4800      23          23  11694.0  \n",
      "\n",
      "[20 rows x 26 columns]\n",
      "Outliers in  compressionratio :      car_ID  symboling                    CarName fueltype aspiration  \\\n",
      "9        10          0        audi 5000s (diesel)      gas      turbo   \n",
      "29       30          3  dodge coronet custom (sw)      gas      turbo   \n",
      "49       50          0                  jaguar xk      gas        std   \n",
      "63       64          0           mazda glc deluxe   diesel        std   \n",
      "66       67          0              mazda rx-7 gs   diesel        std   \n",
      "67       68         -1   buick electra 225 custom   diesel      turbo   \n",
      "68       69         -1   buick century luxus (sw)   diesel      turbo   \n",
      "69       70          0              buick century   diesel      turbo   \n",
      "70       71         -1              buick skyhawk   diesel      turbo   \n",
      "82       83          3       mitsubishi outlander      gas      turbo   \n",
      "83       84          3              mitsubishi g4      gas      turbo   \n",
      "84       85          3       mitsubishi mirage g4      gas      turbo   \n",
      "90       91          1                nissan gt-r   diesel        std   \n",
      "108     109          0                peugeot 304   diesel      turbo   \n",
      "110     111          0                peugeot 504   diesel      turbo   \n",
      "112     113          0              peugeot 604sl   diesel      turbo   \n",
      "114     115          0  peugeot 505s turbo diesel   diesel      turbo   \n",
      "116     117          0                peugeot 504   diesel      turbo   \n",
      "117     118          0              peugeot 604sl      gas      turbo   \n",
      "124     125          3            plymouth duster      gas      turbo   \n",
      "158     159          0              toyota corona   diesel        std   \n",
      "159     160          0             toyota corolla   diesel        std   \n",
      "174     175         -1           toyota celica gt   diesel      turbo   \n",
      "182     183          2           vokswagen rabbit   diesel        std   \n",
      "184     185          2       volkswagen model 111   diesel        std   \n",
      "187     188          2    volkswagen super beetle   diesel      turbo   \n",
      "192     193          0   volkswagen rabbit custom   diesel      turbo   \n",
      "203     204         -1                  volvo 246   diesel      turbo   \n",
      "\n",
      "    doornumber    carbody drivewheel enginelocation  wheelbase  ...  \\\n",
      "9          two  hatchback        4wd          front       99.5  ...   \n",
      "29         two  hatchback        fwd          front       95.9  ...   \n",
      "49         two      sedan        rwd          front      102.0  ...   \n",
      "63        four      sedan        fwd          front       98.8  ...   \n",
      "66        four      sedan        rwd          front      104.9  ...   \n",
      "67        four      sedan        rwd          front      110.0  ...   \n",
      "68        four      wagon        rwd          front      110.0  ...   \n",
      "69         two    hardtop        rwd          front      106.7  ...   \n",
      "70        four      sedan        rwd          front      115.6  ...   \n",
      "82         two  hatchback        fwd          front       95.9  ...   \n",
      "83         two  hatchback        fwd          front       95.9  ...   \n",
      "84         two  hatchback        fwd          front       95.9  ...   \n",
      "90         two      sedan        fwd          front       94.5  ...   \n",
      "108       four      sedan        rwd          front      107.9  ...   \n",
      "110       four      wagon        rwd          front      114.2  ...   \n",
      "112       four      sedan        rwd          front      107.9  ...   \n",
      "114       four      wagon        rwd          front      114.2  ...   \n",
      "116       four      sedan        rwd          front      107.9  ...   \n",
      "117       four      sedan        rwd          front      108.0  ...   \n",
      "124        two  hatchback        rwd          front       95.9  ...   \n",
      "158       four      sedan        fwd          front       95.7  ...   \n",
      "159       four  hatchback        fwd          front       95.7  ...   \n",
      "174       four      sedan        fwd          front      102.4  ...   \n",
      "182        two      sedan        fwd          front       97.3  ...   \n",
      "184       four      sedan        fwd          front       97.3  ...   \n",
      "187       four      sedan        fwd          front       97.3  ...   \n",
      "192       four      sedan        fwd          front      100.4  ...   \n",
      "203       four      sedan        rwd          front      109.1  ...   \n",
      "\n",
      "     enginesize  fuelsystem  boreratio  stroke compressionratio horsepower  \\\n",
      "9           131        mpfi       3.13    3.40              7.0        160   \n",
      "29          156         mfi       3.60    3.90              7.0        145   \n",
      "49          326        mpfi       3.54    2.76             11.5        262   \n",
      "63          122         idi       3.39    3.39             22.7         64   \n",
      "66          134         idi       3.43    3.64             22.0         72   \n",
      "67          183         idi       3.58    3.64             21.5        123   \n",
      "68          183         idi       3.58    3.64             21.5        123   \n",
      "69          183         idi       3.58    3.64             21.5        123   \n",
      "70          183         idi       3.58    3.64             21.5        123   \n",
      "82          156        spdi       3.58    3.86              7.0        145   \n",
      "83          156        spdi       3.59    3.86              7.0        145   \n",
      "84          156        spdi       3.59    3.86              7.0        145   \n",
      "90          103         idi       2.99    3.47             21.9         55   \n",
      "108         152         idi       3.70    3.52             21.0         95   \n",
      "110         152         idi       3.70    3.52             21.0         95   \n",
      "112         152         idi       3.70    3.52             21.0         95   \n",
      "114         152         idi       3.70    3.52             21.0         95   \n",
      "116         152         idi       3.70    3.52             21.0         95   \n",
      "117         134        mpfi       3.61    3.21              7.0        142   \n",
      "124         156        spdi       3.59    3.86              7.0        145   \n",
      "158         110         idi       3.27    3.35             22.5         56   \n",
      "159         110         idi       3.27    3.35             22.5         56   \n",
      "174         110         idi       3.27    3.35             22.5         73   \n",
      "182          97         idi       3.01    3.40             23.0         52   \n",
      "184          97         idi       3.01    3.40             23.0         52   \n",
      "187          97         idi       3.01    3.40             23.0         68   \n",
      "192          97         idi       3.01    3.40             23.0         68   \n",
      "203         145         idi       3.01    3.40             23.0        106   \n",
      "\n",
      "     peakrpm citympg  highwaympg      price  \n",
      "9       5500      16          22  17859.167  \n",
      "29      5000      19          24  12964.000  \n",
      "49      5000      13          17  36000.000  \n",
      "63      4650      36          42  10795.000  \n",
      "66      4200      31          39  18344.000  \n",
      "67      4350      22          25  25552.000  \n",
      "68      4350      22          25  28248.000  \n",
      "69      4350      22          25  28176.000  \n",
      "70      4350      22          25  31600.000  \n",
      "82      5000      19          24  12629.000  \n",
      "83      5000      19          24  14869.000  \n",
      "84      5000      19          24  14489.000  \n",
      "90      4800      45          50   7099.000  \n",
      "108     4150      28          33  13200.000  \n",
      "110     4150      25          25  13860.000  \n",
      "112     4150      28          33  16900.000  \n",
      "114     4150      25          25  17075.000  \n",
      "116     4150      28          33  17950.000  \n",
      "117     5600      18          24  18150.000  \n",
      "124     5000      19          24  12764.000  \n",
      "158     4500      34          36   7898.000  \n",
      "159     4500      38          47   7788.000  \n",
      "174     4500      30          33  10698.000  \n",
      "182     4800      37          46   7775.000  \n",
      "184     4800      37          46   7995.000  \n",
      "187     4500      37          42   9495.000  \n",
      "192     4500      33          38  13845.000  \n",
      "203     4800      26          27  22470.000  \n",
      "\n",
      "[28 rows x 26 columns]\n",
      "Outliers in  horsepower :      car_ID  symboling            CarName fueltype aspiration doornumber  \\\n",
      "49       50          0          jaguar xk      gas        std        two   \n",
      "105     106          3       nissan kicks      gas      turbo        two   \n",
      "126     127          3  porcshce panamera      gas        std        two   \n",
      "127     128          3    porsche cayenne      gas        std        two   \n",
      "128     129          3     porsche boxter      gas        std        two   \n",
      "129     130          1    porsche cayenne      gas        std        two   \n",
      "\n",
      "         carbody drivewheel enginelocation  wheelbase  ...  enginesize  \\\n",
      "49         sedan        rwd          front      102.0  ...         326   \n",
      "105    hatchback        rwd          front       91.3  ...         181   \n",
      "126      hardtop        rwd           rear       89.5  ...         194   \n",
      "127      hardtop        rwd           rear       89.5  ...         194   \n",
      "128  convertible        rwd           rear       89.5  ...         194   \n",
      "129    hatchback        rwd          front       98.4  ...         203   \n",
      "\n",
      "     fuelsystem  boreratio  stroke compressionratio horsepower  peakrpm  \\\n",
      "49         mpfi       3.54    2.76             11.5        262     5000   \n",
      "105        mpfi       3.43    3.27              7.8        200     5200   \n",
      "126        mpfi       3.74    2.90              9.5        207     5900   \n",
      "127        mpfi       3.74    2.90              9.5        207     5900   \n",
      "128        mpfi       3.74    2.90              9.5        207     5900   \n",
      "129        mpfi       3.94    3.11             10.0        288     5750   \n",
      "\n",
      "    citympg  highwaympg    price  \n",
      "49       13          17  36000.0  \n",
      "105      17          23  19699.0  \n",
      "126      17          25  32528.0  \n",
      "127      17          25  34028.0  \n",
      "128      17          25  37028.0  \n",
      "129      17          28  31400.5  \n",
      "\n",
      "[6 rows x 26 columns]\n",
      "Outliers in  peakrpm :      car_ID  symboling                    CarName fueltype aspiration  \\\n",
      "165     166          1  toyota celica gt liftback      gas        std   \n",
      "166     167          1      toyota corolla tercel      gas        std   \n",
      "\n",
      "    doornumber    carbody drivewheel enginelocation  wheelbase  ...  \\\n",
      "165        two      sedan        rwd          front       94.5  ...   \n",
      "166        two  hatchback        rwd          front       94.5  ...   \n",
      "\n",
      "     enginesize  fuelsystem  boreratio  stroke compressionratio horsepower  \\\n",
      "165          98        mpfi       3.24    3.08              9.4        112   \n",
      "166          98        mpfi       3.24    3.08              9.4        112   \n",
      "\n",
      "     peakrpm citympg  highwaympg   price  \n",
      "165     6600      26          29  9298.0  \n",
      "166     6600      26          29  9538.0  \n",
      "\n",
      "[2 rows x 26 columns]\n",
      "Outliers in  citympg :     car_ID  symboling           CarName fueltype aspiration doornumber  \\\n",
      "18      19          2  chevrolet impala      gas        std        two   \n",
      "30      31          2       honda civic      gas        std        two   \n",
      "\n",
      "      carbody drivewheel enginelocation  wheelbase  ...  enginesize  \\\n",
      "18  hatchback        fwd          front       88.4  ...          61   \n",
      "30  hatchback        fwd          front       86.6  ...          92   \n",
      "\n",
      "    fuelsystem  boreratio  stroke compressionratio horsepower  peakrpm  \\\n",
      "18        2bbl       2.91    3.03              9.5         48     5100   \n",
      "30        1bbl       2.91    3.41              9.6         58     4800   \n",
      "\n",
      "   citympg  highwaympg   price  \n",
      "18      47          53  5151.0  \n",
      "30      49          54  6479.0  \n",
      "\n",
      "[2 rows x 26 columns]\n",
      "Outliers in  highwaympg :     car_ID  symboling           CarName fueltype aspiration doornumber  \\\n",
      "18      19          2  chevrolet impala      gas        std        two   \n",
      "30      31          2       honda civic      gas        std        two   \n",
      "90      91          1       nissan gt-r   diesel        std        two   \n",
      "\n",
      "      carbody drivewheel enginelocation  wheelbase  ...  enginesize  \\\n",
      "18  hatchback        fwd          front       88.4  ...          61   \n",
      "30  hatchback        fwd          front       86.6  ...          92   \n",
      "90      sedan        fwd          front       94.5  ...         103   \n",
      "\n",
      "    fuelsystem  boreratio  stroke compressionratio horsepower  peakrpm  \\\n",
      "18        2bbl       2.91    3.03              9.5         48     5100   \n",
      "30        1bbl       2.91    3.41              9.6         58     4800   \n",
      "90         idi       2.99    3.47             21.9         55     4800   \n",
      "\n",
      "   citympg  highwaympg   price  \n",
      "18      47          53  5151.0  \n",
      "30      49          54  6479.0  \n",
      "90      45          50  7099.0  \n",
      "\n",
      "[3 rows x 26 columns]\n",
      "Outliers in  price :      car_ID  symboling                          CarName fueltype aspiration  \\\n",
      "15       16          0                           bmw x4      gas        std   \n",
      "16       17          0                           bmw x5      gas        std   \n",
      "17       18          0                           bmw x3      gas        std   \n",
      "47       48          0                        jaguar xj      gas        std   \n",
      "48       49          0                        jaguar xf      gas        std   \n",
      "49       50          0                        jaguar xk      gas        std   \n",
      "70       71         -1                    buick skyhawk   diesel      turbo   \n",
      "71       72         -1          buick opel isuzu deluxe      gas        std   \n",
      "72       73          3                    buick skylark      gas        std   \n",
      "73       74          0            buick century special      gas        std   \n",
      "74       75          1  buick regal sport coupe (turbo)      gas        std   \n",
      "126     127          3                porcshce panamera      gas        std   \n",
      "127     128          3                  porsche cayenne      gas        std   \n",
      "128     129          3                   porsche boxter      gas        std   \n",
      "129     130          1                  porsche cayenne      gas        std   \n",
      "\n",
      "    doornumber      carbody drivewheel enginelocation  wheelbase  ...  \\\n",
      "15        four        sedan        rwd          front      103.5  ...   \n",
      "16         two        sedan        rwd          front      103.5  ...   \n",
      "17        four        sedan        rwd          front      110.0  ...   \n",
      "47        four        sedan        rwd          front      113.0  ...   \n",
      "48        four        sedan        rwd          front      113.0  ...   \n",
      "49         two        sedan        rwd          front      102.0  ...   \n",
      "70        four        sedan        rwd          front      115.6  ...   \n",
      "71        four        sedan        rwd          front      115.6  ...   \n",
      "72         two  convertible        rwd          front       96.6  ...   \n",
      "73        four        sedan        rwd          front      120.9  ...   \n",
      "74         two      hardtop        rwd          front      112.0  ...   \n",
      "126        two      hardtop        rwd           rear       89.5  ...   \n",
      "127        two      hardtop        rwd           rear       89.5  ...   \n",
      "128        two  convertible        rwd           rear       89.5  ...   \n",
      "129        two    hatchback        rwd          front       98.4  ...   \n",
      "\n",
      "     enginesize  fuelsystem  boreratio  stroke compressionratio horsepower  \\\n",
      "15          209        mpfi       3.62    3.39              8.0        182   \n",
      "16          209        mpfi       3.62    3.39              8.0        182   \n",
      "17          209        mpfi       3.62    3.39              8.0        182   \n",
      "47          258        mpfi       3.63    4.17              8.1        176   \n",
      "48          258        mpfi       3.63    4.17              8.1        176   \n",
      "49          326        mpfi       3.54    2.76             11.5        262   \n",
      "70          183         idi       3.58    3.64             21.5        123   \n",
      "71          234        mpfi       3.46    3.10              8.3        155   \n",
      "72          234        mpfi       3.46    3.10              8.3        155   \n",
      "73          308        mpfi       3.80    3.35              8.0        184   \n",
      "74          304        mpfi       3.80    3.35              8.0        184   \n",
      "126         194        mpfi       3.74    2.90              9.5        207   \n",
      "127         194        mpfi       3.74    2.90              9.5        207   \n",
      "128         194        mpfi       3.74    2.90              9.5        207   \n",
      "129         203        mpfi       3.94    3.11             10.0        288   \n",
      "\n",
      "     peakrpm citympg  highwaympg    price  \n",
      "15      5400      16          22  30760.0  \n",
      "16      5400      16          22  41315.0  \n",
      "17      5400      15          20  36880.0  \n",
      "47      4750      15          19  32250.0  \n",
      "48      4750      15          19  35550.0  \n",
      "49      5000      13          17  36000.0  \n",
      "70      4350      22          25  31600.0  \n",
      "71      4750      16          18  34184.0  \n",
      "72      4750      16          18  35056.0  \n",
      "73      4500      14          16  40960.0  \n",
      "74      4500      14          16  45400.0  \n",
      "126     5900      17          25  32528.0  \n",
      "127     5900      17          25  34028.0  \n",
      "128     5900      17          25  37028.0  \n",
      "129     5750      17          28  31400.5  \n",
      "\n",
      "[15 rows x 26 columns]\n"
     ]
    }
   ],
   "source": [
    "#Finding outliers\n",
    "def find_outliers_iqr(df,column):\n",
    "    Q1 = df[column].quantile(0.25)\n",
    "    Q3 = df[column].quantile(0.75)\n",
    "    IQR = Q3 - Q1\n",
    "    lower_bound = Q1 - 1.5 * IQR\n",
    "    upper_bound = Q3 + 1.5 * IQR\n",
    "    outliers = df[(df[column]<lower_bound) | (df[column]>upper_bound)]\n",
    "    return outliers\n",
    "for column in num:\n",
    "    outliers = find_outliers_iqr(df,column)\n",
    "    print(\"Outliers in \",column,\":\",outliers)"
   ]
  },
  {
   "cell_type": "code",
   "execution_count": 11,
   "id": "f6014a24",
   "metadata": {},
   "outputs": [],
   "source": [
    "#Capping outliers using IQR method:\n",
    "def cap_outliers_iqr(df,column):\n",
    "    Q1 = df[column].quantile(0.25)\n",
    "    Q3 = df[column].quantile(0.75)\n",
    "    IQR = Q3 - Q1\n",
    "    lower_bound = Q1 - 1.25 * IQR\n",
    "    upper_bound = Q3 + 1.25 * IQR\n",
    "    df[column] = df[column].apply(lambda x:lower_bound if x<lower_bound \n",
    "                                  else upper_bound if x>upper_bound else x)\n",
    "\n",
    "for column in num:\n",
    "    cap_outliers_iqr(df,column)\n"
   ]
  },
  {
   "cell_type": "code",
   "execution_count": 12,
   "id": "5264cede",
   "metadata": {},
   "outputs": [
    {
     "name": "stderr",
     "output_type": "stream",
     "text": [
      "C:\\Users\\user\\AppData\\Local\\Temp\\ipykernel_38260\\2239498919.py:2: FutureWarning: Dropping of nuisance columns in DataFrame reductions (with 'numeric_only=None') is deprecated; in a future version this will raise TypeError.  Select only valid columns before calling the reduction.\n",
      "  df.skew()\n"
     ]
    },
    {
     "data": {
      "text/plain": [
       "car_ID              0.000000\n",
       "symboling           0.211072\n",
       "wheelbase           0.803049\n",
       "carlength           0.167375\n",
       "carwidth            0.654919\n",
       "carheight           0.063123\n",
       "curbweight          0.637656\n",
       "enginesize          0.781698\n",
       "boreratio           0.047541\n",
       "stroke             -0.348178\n",
       "compressionratio   -0.079471\n",
       "horsepower          0.705333\n",
       "peakrpm            -0.026885\n",
       "citympg             0.498959\n",
       "highwaympg          0.245859\n",
       "price               1.057888\n",
       "dtype: float64"
      ]
     },
     "execution_count": 12,
     "metadata": {},
     "output_type": "execute_result"
    }
   ],
   "source": [
    "#Checking skewness after outlier removal\n",
    "df.skew()"
   ]
  },
  {
   "cell_type": "markdown",
   "id": "c1016a09",
   "metadata": {},
   "source": [
    "The data is still slightly skewed.Lets apply transformation"
   ]
  },
  {
   "cell_type": "code",
   "execution_count": 13,
   "id": "beaa7c3b",
   "metadata": {},
   "outputs": [
    {
     "data": {
      "text/plain": [
       "<bound method DataFrame.info of      car_ID  symboling                   CarName fueltype aspiration  \\\n",
       "0         1          3        alfa-romero giulia      gas        std   \n",
       "1         2          3       alfa-romero stelvio      gas        std   \n",
       "2         3          1  alfa-romero Quadrifoglio      gas        std   \n",
       "3         4          2               audi 100 ls      gas        std   \n",
       "4         5          2                audi 100ls      gas        std   \n",
       "..      ...        ...                       ...      ...        ...   \n",
       "200     201         -1           volvo 145e (sw)      gas        std   \n",
       "201     202         -1               volvo 144ea      gas      turbo   \n",
       "202     203         -1               volvo 244dl      gas        std   \n",
       "203     204         -1                 volvo 246   diesel      turbo   \n",
       "204     205         -1               volvo 264gl      gas      turbo   \n",
       "\n",
       "    doornumber      carbody drivewheel enginelocation  wheelbase  ...  \\\n",
       "0          two  convertible        rwd          front   4.495355  ...   \n",
       "1          two  convertible        rwd          front   4.495355  ...   \n",
       "2          two    hatchback        rwd          front   4.559126  ...   \n",
       "3         four        sedan        fwd          front   4.613138  ...   \n",
       "4         four        sedan        4wd          front   4.609162  ...   \n",
       "..         ...          ...        ...            ...        ...  ...   \n",
       "200       four        sedan        rwd          front   4.701389  ...   \n",
       "201       four        sedan        rwd          front   4.701389  ...   \n",
       "202       four        sedan        rwd          front   4.701389  ...   \n",
       "203       four        sedan        rwd          front   4.701389  ...   \n",
       "204       four        sedan        rwd          front   4.701389  ...   \n",
       "\n",
       "     enginesize  fuelsystem  boreratio  stroke compressionratio horsepower  \\\n",
       "0      4.875197        mpfi       3.47   2.735              9.0   4.718499   \n",
       "1      4.875197        mpfi       3.47   2.735              9.0   4.718499   \n",
       "2      5.030438        mpfi       2.68   3.470              9.0   5.043425   \n",
       "3      4.700480        mpfi       3.19   3.400             10.0   4.634729   \n",
       "4      4.919981        mpfi       3.19   3.400              8.0   4.753590   \n",
       "..          ...         ...        ...     ...              ...        ...   \n",
       "200    4.955827        mpfi       3.78   3.150              9.5   4.744932   \n",
       "201    4.955827        mpfi       3.78   3.150              8.7   5.081404   \n",
       "202    5.159055        mpfi       3.58   2.870              8.8   4.905275   \n",
       "203    4.983607         idi       3.01   3.400             10.4   4.672829   \n",
       "204    4.955827        mpfi       3.78   3.150              9.5   4.744932   \n",
       "\n",
       "     peakrpm citympg  highwaympg      price  \n",
       "0     5000.0    21.0        27.0   9.510149  \n",
       "1     5000.0    21.0        27.0   9.711176  \n",
       "2     5000.0    19.0        26.0   9.711176  \n",
       "3     5500.0    24.0        30.0   9.543306  \n",
       "4     5500.0    18.0        22.0   9.767152  \n",
       "..       ...     ...         ...        ...  \n",
       "200   5400.0    23.0        28.0   9.731869  \n",
       "201   5300.0    19.0        25.0   9.854612  \n",
       "202   5500.0    18.0        23.0   9.975157  \n",
       "203   4800.0    26.0        27.0  10.019981  \n",
       "204   5400.0    19.0        25.0  10.026855  \n",
       "\n",
       "[205 rows x 26 columns]>"
      ]
     },
     "execution_count": 13,
     "metadata": {},
     "output_type": "execute_result"
    }
   ],
   "source": [
    "#Applying transformation\n",
    "data_transformed = df.copy()\n",
    "skewness = df.select_dtypes(\"number\").skew()\n",
    "for col in skewness.index:\n",
    "    if skewness[col] > 0.5:      #positively skewed\n",
    "        data_transformed[col] = np.log1p(df[col])\n",
    "    elif skewness[col] >0.5:     #negatively skewed\n",
    "        data_transformed[col] = np.square(df[col])\n",
    "data_transformed.info"
   ]
  },
  {
   "cell_type": "code",
   "execution_count": 14,
   "id": "918958d9",
   "metadata": {},
   "outputs": [],
   "source": [
    "df = data_transformed"
   ]
  },
  {
   "cell_type": "code",
   "execution_count": 15,
   "id": "94d7c868",
   "metadata": {},
   "outputs": [
    {
     "data": {
      "image/png": "[encoded data removed]",
      "text/plain": [
       "<Figure size 864x432 with 1 Axes>"
      ]
     },
     "metadata": {
      "needs_background": "light"
     },
     "output_type": "display_data"
    },
    {
     "data": {
      "image/png": "[encoded data removed]",
      "text/plain": [
       "<Figure size 864x432 with 1 Axes>"
      ]
     },
     "metadata": {
      "needs_background": "light"
     },
     "output_type": "display_data"
    },
    {
     "data": {
      "image/png": "[encoded data removed]",
      "text/plain": [
       "<Figure size 864x432 with 1 Axes>"
      ]
     },
     "metadata": {
      "needs_background": "light"
     },
     "output_type": "display_data"
    },
    {
     "data": {
      "image/png": "[encoded data removed]",
      "text/plain": [
       "<Figure size 864x432 with 1 Axes>"
      ]
     },
     "metadata": {
      "needs_background": "light"
     },
     "output_type": "display_data"
    },
    {
     "data": {
      "image/png": "[encoded data removed]",
      "text/plain": [
       "<Figure size 864x432 with 1 Axes>"
      ]
     },
     "metadata": {
      "needs_background": "light"
     },
     "output_type": "display_data"
    },
    {
     "data": {
      "image/png": "[encoded data removed]",
      "text/plain": [
       "<Figure size 864x432 with 1 Axes>"
      ]
     },
     "metadata": {
      "needs_background": "light"
     },
     "output_type": "display_data"
    },
    {
     "data": {
      "image/png": "[encoded data removed]",
      "text/plain": [
       "<Figure size 864x432 with 1 Axes>"
      ]
     },
     "metadata": {
      "needs_background": "light"
     },
     "output_type": "display_data"
    },
    {
     "data": {
      "image/png": "[encoded data removed]",
      "text/plain": [
       "<Figure size 864x432 with 1 Axes>"
      ]
     },
     "metadata": {
      "needs_background": "light"
     },
     "output_type": "display_data"
    },
    {
     "data": {
      "image/png": "[encoded data removed]",
      "text/plain": [
       "<Figure size 864x432 with 1 Axes>"
      ]
     },
     "metadata": {
      "needs_background": "light"
     },
     "output_type": "display_data"
    },
    {
     "data": {
      "image/png": "[encoded data removed]",
      "text/plain": [
       "<Figure size 864x432 with 1 Axes>"
      ]
     },
     "metadata": {
      "needs_background": "light"
     },
     "output_type": "display_data"
    },
    {
     "data": {
      "image/png": "[encoded data removed]",
      "text/plain": [
       "<Figure size 864x432 with 1 Axes>"
      ]
     },
     "metadata": {
      "needs_background": "light"
     },
     "output_type": "display_data"
    },
    {
     "data": {
      "image/png": "[encoded data removed]",
      "text/plain": [
       "<Figure size 864x432 with 1 Axes>"
      ]
     },
     "metadata": {
      "needs_background": "light"
     },
     "output_type": "display_data"
    },
    {
     "data": {
      "image/png": "[encoded data removed]",
      "text/plain": [
       "<Figure size 864x432 with 1 Axes>"
      ]
     },
     "metadata": {
      "needs_background": "light"
     },
     "output_type": "display_data"
    },
    {
     "data": {
      "image/png": "[encoded data removed]",
      "text/plain": [
       "<Figure size 864x432 with 1 Axes>"
      ]
     },
     "metadata": {
      "needs_background": "light"
     },
     "output_type": "display_data"
    },
    {
     "data": {
      "image/png": "[encoded data removed]",
      "text/plain": [
       "<Figure size 864x432 with 1 Axes>"
      ]
     },
     "metadata": {
      "needs_background": "light"
     },
     "output_type": "display_data"
    },
    {
     "data": {
      "image/png": "[encoded data removed]",
      "text/plain": [
       "<Figure size 864x432 with 1 Axes>"
      ]
     },
     "metadata": {
      "needs_background": "light"
     },
     "output_type": "display_data"
    }
   ],
   "source": [
    "#Visualizing the data after removing outliers\n",
    "for column in  num:\n",
    "    plt.figure(figsize=(12,6))\n",
    "    sns.boxplot(y=df[column])\n",
    "    plt.title(column)\n",
    "    plt.show()"
   ]
  },
  {
   "cell_type": "markdown",
   "id": "386ad20b",
   "metadata": {},
   "source": [
    "Almsot all outliers have been removed. Now the cleaned data can be used for encoding categorical values"
   ]
  },
  {
   "cell_type": "code",
   "execution_count": 16,
   "id": "ac33b5b9",
   "metadata": {},
   "outputs": [
    {
     "data": {
      "text/plain": [
       "Index(['CarName', 'fueltype', 'aspiration', 'doornumber', 'carbody',\n",
       "       'drivewheel', 'enginelocation', 'enginetype', 'cylindernumber',\n",
       "       'fuelsystem'],\n",
       "      dtype='object')"
      ]
     },
     "execution_count": 16,
     "metadata": {},
     "output_type": "execute_result"
    }
   ],
   "source": [
    "#categorical values\n",
    "categorical_columns = df.select_dtypes(include=['object']).columns\n",
    "categorical_columns"
   ]
  },
  {
   "cell_type": "code",
   "execution_count": 17,
   "id": "25ed36da",
   "metadata": {},
   "outputs": [],
   "source": [
    "#One - Hot encoding for categories\n",
    "df = pd.get_dummies(df, columns=categorical_columns,drop_first=True)"
   ]
  },
  {
   "cell_type": "code",
   "execution_count": 18,
   "id": "48948b22",
   "metadata": {},
   "outputs": [
    {
     "data": {
      "text/plain": [
       "['car_ID',\n",
       " 'symboling',\n",
       " 'wheelbase',\n",
       " 'carlength',\n",
       " 'carwidth',\n",
       " 'carheight',\n",
       " 'curbweight',\n",
       " 'enginesize',\n",
       " 'boreratio',\n",
       " 'stroke',\n",
       " 'compressionratio',\n",
       " 'horsepower',\n",
       " 'peakrpm',\n",
       " 'citympg',\n",
       " 'highwaympg',\n",
       " 'price',\n",
       " 'CarName_alfa-romero Quadrifoglio',\n",
       " 'CarName_alfa-romero giulia',\n",
       " 'CarName_alfa-romero stelvio',\n",
       " 'CarName_audi 100 ls',\n",
       " 'CarName_audi 100ls',\n",
       " 'CarName_audi 4000',\n",
       " 'CarName_audi 5000',\n",
       " 'CarName_audi 5000s (diesel)',\n",
       " 'CarName_audi fox',\n",
       " 'CarName_bmw 320i',\n",
       " 'CarName_bmw x1',\n",
       " 'CarName_bmw x3',\n",
       " 'CarName_bmw x4',\n",
       " 'CarName_bmw x5',\n",
       " 'CarName_bmw z4',\n",
       " 'CarName_buick century',\n",
       " 'CarName_buick century luxus (sw)',\n",
       " 'CarName_buick century special',\n",
       " 'CarName_buick electra 225 custom',\n",
       " 'CarName_buick opel isuzu deluxe',\n",
       " 'CarName_buick regal sport coupe (turbo)',\n",
       " 'CarName_buick skyhawk',\n",
       " 'CarName_buick skylark',\n",
       " 'CarName_chevrolet impala',\n",
       " 'CarName_chevrolet monte carlo',\n",
       " 'CarName_chevrolet vega 2300',\n",
       " 'CarName_dodge challenger se',\n",
       " 'CarName_dodge colt (sw)',\n",
       " 'CarName_dodge colt hardtop',\n",
       " 'CarName_dodge coronet custom',\n",
       " 'CarName_dodge coronet custom (sw)',\n",
       " 'CarName_dodge d200',\n",
       " 'CarName_dodge dart custom',\n",
       " 'CarName_dodge monaco (sw)',\n",
       " 'CarName_dodge rampage',\n",
       " 'CarName_honda accord',\n",
       " 'CarName_honda accord cvcc',\n",
       " 'CarName_honda accord lx',\n",
       " 'CarName_honda civic',\n",
       " 'CarName_honda civic (auto)',\n",
       " 'CarName_honda civic 1300',\n",
       " 'CarName_honda civic 1500 gl',\n",
       " 'CarName_honda civic cvcc',\n",
       " 'CarName_honda prelude',\n",
       " 'CarName_isuzu D-Max ',\n",
       " 'CarName_isuzu D-Max V-Cross',\n",
       " 'CarName_isuzu MU-X',\n",
       " 'CarName_jaguar xf',\n",
       " 'CarName_jaguar xj',\n",
       " 'CarName_jaguar xk',\n",
       " 'CarName_maxda glc deluxe',\n",
       " 'CarName_maxda rx3',\n",
       " 'CarName_mazda 626',\n",
       " 'CarName_mazda glc',\n",
       " 'CarName_mazda glc 4',\n",
       " 'CarName_mazda glc custom',\n",
       " 'CarName_mazda glc custom l',\n",
       " 'CarName_mazda glc deluxe',\n",
       " 'CarName_mazda rx-4',\n",
       " 'CarName_mazda rx-7 gs',\n",
       " 'CarName_mazda rx2 coupe',\n",
       " 'CarName_mercury cougar',\n",
       " 'CarName_mitsubishi g4',\n",
       " 'CarName_mitsubishi lancer',\n",
       " 'CarName_mitsubishi mirage',\n",
       " 'CarName_mitsubishi mirage g4',\n",
       " 'CarName_mitsubishi montero',\n",
       " 'CarName_mitsubishi outlander',\n",
       " 'CarName_mitsubishi pajero',\n",
       " 'CarName_nissan clipper',\n",
       " 'CarName_nissan dayz',\n",
       " 'CarName_nissan fuga',\n",
       " 'CarName_nissan gt-r',\n",
       " 'CarName_nissan juke',\n",
       " 'CarName_nissan kicks',\n",
       " 'CarName_nissan latio',\n",
       " 'CarName_nissan leaf',\n",
       " 'CarName_nissan note',\n",
       " 'CarName_nissan nv200',\n",
       " 'CarName_nissan otti',\n",
       " 'CarName_nissan rogue',\n",
       " 'CarName_nissan teana',\n",
       " 'CarName_nissan titan',\n",
       " 'CarName_peugeot 304',\n",
       " 'CarName_peugeot 504',\n",
       " 'CarName_peugeot 504 (sw)',\n",
       " 'CarName_peugeot 505s turbo diesel',\n",
       " 'CarName_peugeot 604sl',\n",
       " 'CarName_plymouth cricket',\n",
       " 'CarName_plymouth duster',\n",
       " 'CarName_plymouth fury gran sedan',\n",
       " 'CarName_plymouth fury iii',\n",
       " 'CarName_plymouth satellite custom (sw)',\n",
       " 'CarName_plymouth valiant',\n",
       " 'CarName_porcshce panamera',\n",
       " 'CarName_porsche boxter',\n",
       " 'CarName_porsche cayenne',\n",
       " 'CarName_porsche macan',\n",
       " 'CarName_renault 12tl',\n",
       " 'CarName_renault 5 gtl',\n",
       " 'CarName_saab 99e',\n",
       " 'CarName_saab 99gle',\n",
       " 'CarName_saab 99le',\n",
       " 'CarName_subaru',\n",
       " 'CarName_subaru baja',\n",
       " 'CarName_subaru brz',\n",
       " 'CarName_subaru dl',\n",
       " 'CarName_subaru r1',\n",
       " 'CarName_subaru r2',\n",
       " 'CarName_subaru trezia',\n",
       " 'CarName_subaru tribeca',\n",
       " 'CarName_toyota carina',\n",
       " 'CarName_toyota celica gt',\n",
       " 'CarName_toyota celica gt liftback',\n",
       " 'CarName_toyota corolla',\n",
       " 'CarName_toyota corolla 1200',\n",
       " 'CarName_toyota corolla 1600 (sw)',\n",
       " 'CarName_toyota corolla liftback',\n",
       " 'CarName_toyota corolla tercel',\n",
       " 'CarName_toyota corona',\n",
       " 'CarName_toyota corona hardtop',\n",
       " 'CarName_toyota corona liftback',\n",
       " 'CarName_toyota corona mark ii',\n",
       " 'CarName_toyota cressida',\n",
       " 'CarName_toyota mark ii',\n",
       " 'CarName_toyota starlet',\n",
       " 'CarName_toyota tercel',\n",
       " 'CarName_toyouta tercel',\n",
       " 'CarName_vokswagen rabbit',\n",
       " 'CarName_volkswagen 1131 deluxe sedan',\n",
       " 'CarName_volkswagen 411 (sw)',\n",
       " 'CarName_volkswagen dasher',\n",
       " 'CarName_volkswagen model 111',\n",
       " 'CarName_volkswagen rabbit',\n",
       " 'CarName_volkswagen rabbit custom',\n",
       " 'CarName_volkswagen super beetle',\n",
       " 'CarName_volkswagen type 3',\n",
       " 'CarName_volvo 144ea',\n",
       " 'CarName_volvo 145e (sw)',\n",
       " 'CarName_volvo 244dl',\n",
       " 'CarName_volvo 245',\n",
       " 'CarName_volvo 246',\n",
       " 'CarName_volvo 264gl',\n",
       " 'CarName_volvo diesel',\n",
       " 'CarName_vw dasher',\n",
       " 'CarName_vw rabbit',\n",
       " 'fueltype_gas',\n",
       " 'aspiration_turbo',\n",
       " 'doornumber_two',\n",
       " 'carbody_hardtop',\n",
       " 'carbody_hatchback',\n",
       " 'carbody_sedan',\n",
       " 'carbody_wagon',\n",
       " 'drivewheel_fwd',\n",
       " 'drivewheel_rwd',\n",
       " 'enginelocation_rear',\n",
       " 'enginetype_dohcv',\n",
       " 'enginetype_l',\n",
       " 'enginetype_ohc',\n",
       " 'enginetype_ohcf',\n",
       " 'enginetype_ohcv',\n",
       " 'enginetype_rotor',\n",
       " 'cylindernumber_five',\n",
       " 'cylindernumber_four',\n",
       " 'cylindernumber_six',\n",
       " 'cylindernumber_three',\n",
       " 'cylindernumber_twelve',\n",
       " 'cylindernumber_two',\n",
       " 'fuelsystem_2bbl',\n",
       " 'fuelsystem_4bbl',\n",
       " 'fuelsystem_idi',\n",
       " 'fuelsystem_mfi',\n",
       " 'fuelsystem_mpfi',\n",
       " 'fuelsystem_spdi',\n",
       " 'fuelsystem_spfi']"
      ]
     },
     "execution_count": 18,
     "metadata": {},
     "output_type": "execute_result"
    }
   ],
   "source": [
    "list(df.columns)"
   ]
  },
  {
   "cell_type": "code",
   "execution_count": 19,
   "id": "9286a7a2",
   "metadata": {},
   "outputs": [],
   "source": [
    "#Feature selection\n",
    "x = df.drop(columns=[col for col in df.columns \n",
    "                     if col.startswith('CarName_')]+['price']+['car_ID'],axis=1)\n",
    "y = df['price']"
   ]
  },
  {
   "cell_type": "code",
   "execution_count": 20,
   "id": "c94e34c7",
   "metadata": {},
   "outputs": [],
   "source": [
    "#feature scaling\n",
    "from sklearn.preprocessing import StandardScaler\n",
    "scaler = StandardScaler()\n",
    "x_scaled = scaler.fit_transform(x)"
   ]
  },
  {
   "cell_type": "code",
   "execution_count": 21,
   "id": "56ed088c",
   "metadata": {},
   "outputs": [],
   "source": [
    "#Splitting the dataset\n",
    "from sklearn.model_selection import train_test_split\n",
    "x_train,x_test,y_train,y_test = train_test_split(x_scaled,y,test_size=0.2,random_state=42)"
   ]
  },
  {
   "cell_type": "code",
   "execution_count": 22,
   "id": "42a28ecf",
   "metadata": {},
   "outputs": [
    {
     "data": {
      "text/plain": [
       "(164, 43)"
      ]
     },
     "execution_count": 22,
     "metadata": {},
     "output_type": "execute_result"
    }
   ],
   "source": [
    "x_train.shape"
   ]
  },
  {
   "cell_type": "code",
   "execution_count": 23,
   "id": "657759bd",
   "metadata": {},
   "outputs": [
    {
     "data": {
      "text/plain": [
       "(164,)"
      ]
     },
     "execution_count": 23,
     "metadata": {},
     "output_type": "execute_result"
    }
   ],
   "source": [
    "y_train.shape"
   ]
  },
  {
   "cell_type": "code",
   "execution_count": 24,
   "id": "e167ea54",
   "metadata": {},
   "outputs": [
    {
     "data": {
      "text/plain": [
       "(41, 43)"
      ]
     },
     "execution_count": 24,
     "metadata": {},
     "output_type": "execute_result"
    }
   ],
   "source": [
    "x_test.shape"
   ]
  },
  {
   "cell_type": "code",
   "execution_count": 25,
   "id": "98b467fe",
   "metadata": {},
   "outputs": [
    {
     "data": {
      "text/plain": [
       "(41,)"
      ]
     },
     "execution_count": 25,
     "metadata": {},
     "output_type": "execute_result"
    }
   ],
   "source": [
    "y_test.shape"
   ]
  },
  {
   "cell_type": "markdown",
   "id": "fea00d9f",
   "metadata": {},
   "source": [
    "The preprocessing of data is completed. \n",
    "Steps done:\n",
    "1. Loading the dataset and converting it to a dataframe. \n",
    "2. Finding out the information nd description of dataframe\n",
    "3. Checking for null values and duplicated values\n",
    "4. Visualizing the data columns seperately using boxplot\n",
    "5. Finding out skewness of each column\n",
    "6. Finding out outliers in numerical columns using IQR method\n",
    "7. Removing the found outliers using IQR method\n",
    "8. Done one-hot encoding for categorical features\n",
    "9. Feture seclection and feature scaling done with standard scaler\n",
    "10. Splitted the data into test data and train data"
   ]
  },
  {
   "cell_type": "markdown",
   "id": "b6c1c479",
   "metadata": {},
   "source": [
    "### 2. Model Implementation "
   ]
  },
  {
   "cell_type": "markdown",
   "id": "6d996ada",
   "metadata": {},
   "source": [
    "Implement the following five regression algorithms: \n",
    "1) Linear Regression \n",
    "2) Decision Tree Regressor \n",
    "3) Random Forest Regressor \n",
    "4) Gradient Boosting Regressor \n",
    "5) Support Vector Regressor "
   ]
  },
  {
   "cell_type": "markdown",
   "id": "0ee63fc6",
   "metadata": {},
   "source": [
    "#### 1.Linear Regression"
   ]
  },
  {
   "cell_type": "code",
   "execution_count": 26,
   "id": "ff73ad99",
   "metadata": {},
   "outputs": [],
   "source": [
    "#importing necessary libraries\n",
    "from sklearn.linear_model import LinearRegression\n",
    "from sklearn.metrics import mean_absolute_error,mean_squared_error,r2_score"
   ]
  },
  {
   "cell_type": "code",
   "execution_count": 27,
   "id": "b6ddc54a",
   "metadata": {},
   "outputs": [],
   "source": [
    "#initializing an empty list to store results\n",
    "results = []"
   ]
  },
  {
   "cell_type": "code",
   "execution_count": 28,
   "id": "cf5ecbd7",
   "metadata": {},
   "outputs": [
    {
     "data": {
      "text/plain": [
       "LinearRegression()"
      ]
     },
     "execution_count": 28,
     "metadata": {},
     "output_type": "execute_result"
    }
   ],
   "source": [
    "#Linear regression\n",
    "lr_model = LinearRegression()\n",
    "lr_model.fit(x_train, y_train)"
   ]
  },
  {
   "cell_type": "code",
   "execution_count": 29,
   "id": "8226d703",
   "metadata": {},
   "outputs": [],
   "source": [
    "#Prediction on test data\n",
    "lr_pred_test = lr_model.predict(x_test)\n",
    "#Prediction on train data\n",
    "lr_pred_train = lr_model.predict(x_train)"
   ]
  },
  {
   "cell_type": "code",
   "execution_count": 30,
   "id": "be0c91f1",
   "metadata": {},
   "outputs": [],
   "source": [
    "#Evaluating the model\n",
    "#Calculating r2_score,mean_squared_error and mean_absolute_error for test data\n",
    "lr_mse = mean_squared_error(y_test,lr_pred_test)\n",
    "lr_mae = mean_absolute_error(y_test,lr_pred_test)\n",
    "lr_r2 = r2_score(y_test,lr_pred_test)\n",
    "#calculating r2-score for training data\n",
    "lr_r2_train = r2_score(y_train,lr_pred_train)"
   ]
  },
  {
   "cell_type": "code",
   "execution_count": 31,
   "id": "2d2bc8eb",
   "metadata": {},
   "outputs": [
    {
     "name": "stdout",
     "output_type": "stream",
     "text": [
      "[{'Model': 'Linear Regression', 'Mean Squared Error': 0.024603103705596516, 'Mean Absolute Error': 0.12589910836073173, 'R2 Score (Test)': 0.8884773762128266, 'R2 Score (Train)': 0.9387177537471362}]\n"
     ]
    }
   ],
   "source": [
    "#appending results to the list\n",
    "results.append({\n",
    "    'Model': 'Linear Regression',\n",
    "    'Mean Squared Error': lr_mse,\n",
    "    'Mean Absolute Error': lr_mae,\n",
    "    'R2 Score (Test)': lr_r2,\n",
    "    'R2 Score (Train)': lr_r2_train\n",
    "})\n",
    "print(results)\n"
   ]
  },
  {
   "cell_type": "code",
   "execution_count": null,
   "id": "b657693a",
   "metadata": {},
   "outputs": [],
   "source": []
  },
  {
   "cell_type": "markdown",
   "id": "a46a0957",
   "metadata": {},
   "source": [
    "#### 2.Decision Tree Regressor"
   ]
  },
  {
   "cell_type": "code",
   "execution_count": 32,
   "id": "2dc7f6df",
   "metadata": {},
   "outputs": [
    {
     "data": {
      "text/plain": [
       "DecisionTreeRegressor()"
      ]
     },
     "execution_count": 32,
     "metadata": {},
     "output_type": "execute_result"
    }
   ],
   "source": [
    "#importing libraries\n",
    "from sklearn.tree import DecisionTreeRegressor\n",
    "#Decision tree regression\n",
    "dt_model = DecisionTreeRegressor()\n",
    "dt_model.fit(x_train,y_train)"
   ]
  },
  {
   "cell_type": "code",
   "execution_count": 33,
   "id": "b932eb4d",
   "metadata": {},
   "outputs": [],
   "source": [
    "#Prediction on test data\n",
    "dt_pred_test = dt_model.predict(x_test)\n",
    "#Prediction on train data\n",
    "dt_pred_train = dt_model.predict(x_train)"
   ]
  },
  {
   "cell_type": "code",
   "execution_count": 34,
   "id": "42520f3e",
   "metadata": {},
   "outputs": [],
   "source": [
    "#Evaluating the model\n",
    "#Calculating r2_score,mean_squared_error and mean_absolute_error for test data\n",
    "dt_mse = mean_squared_error(y_test,dt_pred_test)\n",
    "dt_mae = mean_absolute_error(y_test,dt_pred_test)\n",
    "dt_r2 = r2_score(y_test,dt_pred_test)\n",
    "#calculating r2-score for training data\n",
    "dt_r2_train = r2_score(y_train,dt_pred_train)\n"
   ]
  },
  {
   "cell_type": "code",
   "execution_count": 35,
   "id": "c04cdd09",
   "metadata": {},
   "outputs": [
    {
     "name": "stdout",
     "output_type": "stream",
     "text": [
      "[{'Model': 'Linear Regression', 'Mean Squared Error': 0.024603103705596516, 'Mean Absolute Error': 0.12589910836073173, 'R2 Score (Test)': 0.8884773762128266, 'R2 Score (Train)': 0.9387177537471362}, {'Model': 'Decision Tree Regressor', 'Mean Squared Error': 0.022054123011452043, 'Mean Absolute Error': 0.10164219434259267, 'R2 Score (Test)': 0.9000315694721583, 'R2 Score (Train)': 0.9988958319059426}]\n"
     ]
    }
   ],
   "source": [
    "#appending results to the list\n",
    "results.append({\n",
    "    'Model': 'Decision Tree Regressor',\n",
    "    'Mean Squared Error': dt_mse,\n",
    "    'Mean Absolute Error': dt_mae,\n",
    "    'R2 Score (Test)': dt_r2,\n",
    "    'R2 Score (Train)': dt_r2_train\n",
    "})\n",
    "print(results)"
   ]
  },
  {
   "cell_type": "markdown",
   "id": "9be68be3",
   "metadata": {},
   "source": [
    "####  3.Random Forest Regressor"
   ]
  },
  {
   "cell_type": "code",
   "execution_count": 36,
   "id": "0960f4d6",
   "metadata": {},
   "outputs": [
    {
     "data": {
      "text/plain": [
       "RandomForestRegressor()"
      ]
     },
     "execution_count": 36,
     "metadata": {},
     "output_type": "execute_result"
    }
   ],
   "source": [
    "#importing libraries\n",
    "from sklearn.ensemble import RandomForestRegressor\n",
    "#Random Forest regression\n",
    "rf_model = RandomForestRegressor()\n",
    "rf_model.fit(x_train,y_train)"
   ]
  },
  {
   "cell_type": "code",
   "execution_count": 37,
   "id": "de08a86e",
   "metadata": {},
   "outputs": [],
   "source": [
    "#Prediction on test data\n",
    "rf_pred_test = rf_model.predict(x_test)\n",
    "#Prediction on train data\n",
    "rf_pred_train = rf_model.predict(x_train)"
   ]
  },
  {
   "cell_type": "code",
   "execution_count": 38,
   "id": "647de5a9",
   "metadata": {},
   "outputs": [],
   "source": [
    "#Evaluating the model\n",
    "#Calculating r2_score,mean_squared_error and mean_absolute_error for test data\n",
    "rf_mse = mean_squared_error(y_test,rf_pred_test)\n",
    "rf_mae = mean_absolute_error(y_test,rf_pred_test)\n",
    "rf_r2 = r2_score(y_test,rf_pred_test)\n",
    "#calculating r2-score for training data\n",
    "rf_r2_train = r2_score(y_train,rf_pred_train)\n"
   ]
  },
  {
   "cell_type": "code",
   "execution_count": 39,
   "id": "e69815a0",
   "metadata": {},
   "outputs": [
    {
     "name": "stdout",
     "output_type": "stream",
     "text": [
      "[{'Model': 'Linear Regression', 'Mean Squared Error': 0.024603103705596516, 'Mean Absolute Error': 0.12589910836073173, 'R2 Score (Test)': 0.8884773762128266, 'R2 Score (Train)': 0.9387177537471362}, {'Model': 'Decision Tree Regressor', 'Mean Squared Error': 0.022054123011452043, 'Mean Absolute Error': 0.10164219434259267, 'R2 Score (Test)': 0.9000315694721583, 'R2 Score (Train)': 0.9988958319059426}, {'Model': 'Random Forest Regressor', 'Mean Squared Error': 0.01283148589467574, 'Mean Absolute Error': 0.09052545027681932, 'R2 Score (Test)': 0.9418365669963489, 'R2 Score (Train)': 0.984927386114267}]\n"
     ]
    }
   ],
   "source": [
    "#appending results to the list\n",
    "results.append({\n",
    "    'Model': 'Random Forest Regressor',\n",
    "    'Mean Squared Error': rf_mse,\n",
    "    'Mean Absolute Error': rf_mae,\n",
    "    'R2 Score (Test)': rf_r2,\n",
    "    'R2 Score (Train)': rf_r2_train\n",
    "})\n",
    "print(results)"
   ]
  },
  {
   "cell_type": "markdown",
   "id": "dc6001a7",
   "metadata": {},
   "source": [
    "#### 4.Gradient Boosting Regressor "
   ]
  },
  {
   "cell_type": "code",
   "execution_count": 40,
   "id": "54a9af51",
   "metadata": {},
   "outputs": [
    {
     "data": {
      "text/plain": [
       "GradientBoostingRegressor()"
      ]
     },
     "execution_count": 40,
     "metadata": {},
     "output_type": "execute_result"
    }
   ],
   "source": [
    "#importing libraries\n",
    "from sklearn.ensemble import GradientBoostingRegressor\n",
    "#Gradient Boosting Regression\n",
    "gb_model = GradientBoostingRegressor()\n",
    "gb_model.fit(x_train,y_train)"
   ]
  },
  {
   "cell_type": "code",
   "execution_count": 41,
   "id": "133f0d05",
   "metadata": {},
   "outputs": [],
   "source": [
    "#Prediction on test data\n",
    "gb_pred_test = gb_model.predict(x_test)\n",
    "#Prediction on train data\n",
    "gb_pred_train = gb_model.predict(x_train)"
   ]
  },
  {
   "cell_type": "code",
   "execution_count": 42,
   "id": "23a4c56a",
   "metadata": {},
   "outputs": [],
   "source": [
    "#Evaluating the model\n",
    "#Calculating r2_score,mean_squared_error and mean_absolute_error for test data\n",
    "gb_mse = mean_squared_error(y_test,gb_pred_test)\n",
    "gb_mae = mean_absolute_error(y_test,gb_pred_test)\n",
    "gb_r2 = r2_score(y_test,gb_pred_test)\n",
    "#calculating r2-score for training data\n",
    "gb_r2_train = r2_score(y_train,gb_pred_train)"
   ]
  },
  {
   "cell_type": "code",
   "execution_count": 43,
   "id": "3bd6462c",
   "metadata": {},
   "outputs": [
    {
     "name": "stdout",
     "output_type": "stream",
     "text": [
      "[{'Model': 'Linear Regression', 'Mean Squared Error': 0.024603103705596516, 'Mean Absolute Error': 0.12589910836073173, 'R2 Score (Test)': 0.8884773762128266, 'R2 Score (Train)': 0.9387177537471362}, {'Model': 'Decision Tree Regressor', 'Mean Squared Error': 0.022054123011452043, 'Mean Absolute Error': 0.10164219434259267, 'R2 Score (Test)': 0.9000315694721583, 'R2 Score (Train)': 0.9988958319059426}, {'Model': 'Random Forest Regressor', 'Mean Squared Error': 0.01283148589467574, 'Mean Absolute Error': 0.09052545027681932, 'R2 Score (Test)': 0.9418365669963489, 'R2 Score (Train)': 0.984927386114267}, {'Model': 'Gradient Boosting Regressor', 'Mean Squared Error': 0.014376361716697726, 'Mean Absolute Error': 0.10009155445592555, 'R2 Score (Test)': 0.9348338486743484, 'R2 Score (Train)': 0.9901636497290983}]\n"
     ]
    }
   ],
   "source": [
    "#appending results to the list\n",
    "results.append({\n",
    "    'Model': 'Gradient Boosting Regressor',\n",
    "    'Mean Squared Error': gb_mse,\n",
    "    'Mean Absolute Error': gb_mae,\n",
    "    'R2 Score (Test)': gb_r2,\n",
    "    'R2 Score (Train)': gb_r2_train\n",
    "})\n",
    "print(results)"
   ]
  },
  {
   "cell_type": "markdown",
   "id": "a89bb456",
   "metadata": {},
   "source": [
    "####  5.Support Vector Regressor "
   ]
  },
  {
   "cell_type": "code",
   "execution_count": 44,
   "id": "b363a442",
   "metadata": {},
   "outputs": [
    {
     "data": {
      "text/plain": [
       "SVR()"
      ]
     },
     "execution_count": 44,
     "metadata": {},
     "output_type": "execute_result"
    }
   ],
   "source": [
    "#importing libraries\n",
    "from sklearn.svm import SVR\n",
    "#Support Vector Regression\n",
    "svr_model =SVR()\n",
    "svr_model.fit(x_train,y_train)"
   ]
  },
  {
   "cell_type": "code",
   "execution_count": 45,
   "id": "52f2edc2",
   "metadata": {},
   "outputs": [],
   "source": [
    "#Prediction on test data\n",
    "svr_pred_test = svr_model.predict(x_test)\n",
    "#Prediction on train data\n",
    "svr_pred_train = svr_model.predict(x_train)"
   ]
  },
  {
   "cell_type": "code",
   "execution_count": 46,
   "id": "d437afe0",
   "metadata": {},
   "outputs": [],
   "source": [
    "#Evaluating the model\n",
    "#Calculating r2_score,mean_squared_error and mean_absolute_error for test data\n",
    "svr_mse = mean_squared_error(y_test,svr_pred_test)\n",
    "svr_mae = mean_absolute_error(y_test,svr_pred_test)\n",
    "svr_r2 = r2_score(y_test,svr_pred_test)\n",
    "#calculating r2-score for training data\n",
    "svr_r2_train = r2_score(y_train,svr_pred_train)"
   ]
  },
  {
   "cell_type": "code",
   "execution_count": 47,
   "id": "67e7cc8f",
   "metadata": {},
   "outputs": [
    {
     "name": "stdout",
     "output_type": "stream",
     "text": [
      "[{'Model': 'Linear Regression', 'Mean Squared Error': 0.024603103705596516, 'Mean Absolute Error': 0.12589910836073173, 'R2 Score (Test)': 0.8884773762128266, 'R2 Score (Train)': 0.9387177537471362}, {'Model': 'Decision Tree Regressor', 'Mean Squared Error': 0.022054123011452043, 'Mean Absolute Error': 0.10164219434259267, 'R2 Score (Test)': 0.9000315694721583, 'R2 Score (Train)': 0.9988958319059426}, {'Model': 'Random Forest Regressor', 'Mean Squared Error': 0.01283148589467574, 'Mean Absolute Error': 0.09052545027681932, 'R2 Score (Test)': 0.9418365669963489, 'R2 Score (Train)': 0.984927386114267}, {'Model': 'Gradient Boosting Regressor', 'Mean Squared Error': 0.014376361716697726, 'Mean Absolute Error': 0.10009155445592555, 'R2 Score (Test)': 0.9348338486743484, 'R2 Score (Train)': 0.9901636497290983}, {'Model': 'Support Vector Regressor', 'Mean Squared Error': 0.05089537391874775, 'Mean Absolute Error': 0.14037809089161005, 'R2 Score (Test)': 0.7692979834590181, 'R2 Score (Train)': 0.9567128496440994}]\n"
     ]
    }
   ],
   "source": [
    "#appending results to the list\n",
    "results.append({\n",
    "    'Model': 'Support Vector Regressor',\n",
    "    'Mean Squared Error': svr_mse,\n",
    "    'Mean Absolute Error': svr_mae,\n",
    "    'R2 Score (Test)': svr_r2,\n",
    "    'R2 Score (Train)': svr_r2_train\n",
    "})\n",
    "print(results)"
   ]
  },
  {
   "cell_type": "markdown",
   "id": "2b389c56",
   "metadata": {},
   "source": [
    "### 3. Model Evaluation \n",
    "Compare the performance of all the models based on R-squared, Mean Squared Error (MSE), and Mean Absolute Error (MAE). \n",
    "Identify the best performing model and justify why it is the best."
   ]
  },
  {
   "cell_type": "code",
   "execution_count": 48,
   "id": "cc9a1d7e",
   "metadata": {
    "scrolled": true
   },
   "outputs": [
    {
     "data": {
      "text/html": [
       "<div>\n",
       "<style scoped>\n",
       "    .dataframe tbody tr th:only-of-type {\n",
       "        vertical-align: middle;\n",
       "    }\n",
       "\n",
       "    .dataframe tbody tr th {\n",
       "        vertical-align: top;\n",
       "    }\n",
       "\n",
       "    .dataframe thead th {\n",
       "        text-align: right;\n",
       "    }\n",
       "</style>\n",
       "<table border=\"1\" class=\"dataframe\">\n",
       "  <thead>\n",
       "    <tr style=\"text-align: right;\">\n",
       "      <th></th>\n",
       "      <th>Model</th>\n",
       "      <th>Mean Squared Error</th>\n",
       "      <th>Mean Absolute Error</th>\n",
       "      <th>R2 Score (Test)</th>\n",
       "      <th>R2 Score (Train)</th>\n",
       "    </tr>\n",
       "  </thead>\n",
       "  <tbody>\n",
       "    <tr>\n",
       "      <th>0</th>\n",
       "      <td>Linear Regression</td>\n",
       "      <td>0.024603</td>\n",
       "      <td>0.125899</td>\n",
       "      <td>0.888477</td>\n",
       "      <td>0.938718</td>\n",
       "    </tr>\n",
       "    <tr>\n",
       "      <th>1</th>\n",
       "      <td>Decision Tree Regressor</td>\n",
       "      <td>0.022054</td>\n",
       "      <td>0.101642</td>\n",
       "      <td>0.900032</td>\n",
       "      <td>0.998896</td>\n",
       "    </tr>\n",
       "    <tr>\n",
       "      <th>2</th>\n",
       "      <td>Random Forest Regressor</td>\n",
       "      <td>0.012831</td>\n",
       "      <td>0.090525</td>\n",
       "      <td>0.941837</td>\n",
       "      <td>0.984927</td>\n",
       "    </tr>\n",
       "    <tr>\n",
       "      <th>3</th>\n",
       "      <td>Gradient Boosting Regressor</td>\n",
       "      <td>0.014376</td>\n",
       "      <td>0.100092</td>\n",
       "      <td>0.934834</td>\n",
       "      <td>0.990164</td>\n",
       "    </tr>\n",
       "    <tr>\n",
       "      <th>4</th>\n",
       "      <td>Support Vector Regressor</td>\n",
       "      <td>0.050895</td>\n",
       "      <td>0.140378</td>\n",
       "      <td>0.769298</td>\n",
       "      <td>0.956713</td>\n",
       "    </tr>\n",
       "  </tbody>\n",
       "</table>\n",
       "</div>"
      ],
      "text/plain": [
       "                         Model  Mean Squared Error  Mean Absolute Error  \\\n",
       "0            Linear Regression            0.024603             0.125899   \n",
       "1      Decision Tree Regressor            0.022054             0.101642   \n",
       "2      Random Forest Regressor            0.012831             0.090525   \n",
       "3  Gradient Boosting Regressor            0.014376             0.100092   \n",
       "4     Support Vector Regressor            0.050895             0.140378   \n",
       "\n",
       "   R2 Score (Test)  R2 Score (Train)  \n",
       "0         0.888477          0.938718  \n",
       "1         0.900032          0.998896  \n",
       "2         0.941837          0.984927  \n",
       "3         0.934834          0.990164  \n",
       "4         0.769298          0.956713  "
      ]
     },
     "execution_count": 48,
     "metadata": {},
     "output_type": "execute_result"
    }
   ],
   "source": [
    "#creating a dataframe to display the results for detailed evalutaion of performances of all models\n",
    "results_df = pd.DataFrame(results)\n",
    "results_df"
   ]
  },
  {
   "cell_type": "code",
   "execution_count": 49,
   "id": "714e9b11",
   "metadata": {},
   "outputs": [
    {
     "data": {
      "text/html": [
       "<div>\n",
       "<style scoped>\n",
       "    .dataframe tbody tr th:only-of-type {\n",
       "        vertical-align: middle;\n",
       "    }\n",
       "\n",
       "    .dataframe tbody tr th {\n",
       "        vertical-align: top;\n",
       "    }\n",
       "\n",
       "    .dataframe thead th {\n",
       "        text-align: right;\n",
       "    }\n",
       "</style>\n",
       "<table border=\"1\" class=\"dataframe\">\n",
       "  <thead>\n",
       "    <tr style=\"text-align: right;\">\n",
       "      <th></th>\n",
       "      <th>Model</th>\n",
       "      <th>Mean Squared Error</th>\n",
       "      <th>Mean Absolute Error</th>\n",
       "      <th>R2 Score (Test)</th>\n",
       "      <th>R2 Score (Train)</th>\n",
       "    </tr>\n",
       "  </thead>\n",
       "  <tbody>\n",
       "    <tr>\n",
       "      <th>2</th>\n",
       "      <td>Random Forest Regressor</td>\n",
       "      <td>0.012831</td>\n",
       "      <td>0.090525</td>\n",
       "      <td>0.941837</td>\n",
       "      <td>0.984927</td>\n",
       "    </tr>\n",
       "    <tr>\n",
       "      <th>3</th>\n",
       "      <td>Gradient Boosting Regressor</td>\n",
       "      <td>0.014376</td>\n",
       "      <td>0.100092</td>\n",
       "      <td>0.934834</td>\n",
       "      <td>0.990164</td>\n",
       "    </tr>\n",
       "    <tr>\n",
       "      <th>1</th>\n",
       "      <td>Decision Tree Regressor</td>\n",
       "      <td>0.022054</td>\n",
       "      <td>0.101642</td>\n",
       "      <td>0.900032</td>\n",
       "      <td>0.998896</td>\n",
       "    </tr>\n",
       "    <tr>\n",
       "      <th>0</th>\n",
       "      <td>Linear Regression</td>\n",
       "      <td>0.024603</td>\n",
       "      <td>0.125899</td>\n",
       "      <td>0.888477</td>\n",
       "      <td>0.938718</td>\n",
       "    </tr>\n",
       "    <tr>\n",
       "      <th>4</th>\n",
       "      <td>Support Vector Regressor</td>\n",
       "      <td>0.050895</td>\n",
       "      <td>0.140378</td>\n",
       "      <td>0.769298</td>\n",
       "      <td>0.956713</td>\n",
       "    </tr>\n",
       "  </tbody>\n",
       "</table>\n",
       "</div>"
      ],
      "text/plain": [
       "                         Model  Mean Squared Error  Mean Absolute Error  \\\n",
       "2      Random Forest Regressor            0.012831             0.090525   \n",
       "3  Gradient Boosting Regressor            0.014376             0.100092   \n",
       "1      Decision Tree Regressor            0.022054             0.101642   \n",
       "0            Linear Regression            0.024603             0.125899   \n",
       "4     Support Vector Regressor            0.050895             0.140378   \n",
       "\n",
       "   R2 Score (Test)  R2 Score (Train)  \n",
       "2         0.941837          0.984927  \n",
       "3         0.934834          0.990164  \n",
       "1         0.900032          0.998896  \n",
       "0         0.888477          0.938718  \n",
       "4         0.769298          0.956713  "
      ]
     },
     "execution_count": 49,
     "metadata": {},
     "output_type": "execute_result"
    }
   ],
   "source": [
    "results_df = results_df.sort_values(by=\"R2 Score (Test)\",ascending=False)\n",
    "results_df"
   ]
  },
  {
   "cell_type": "markdown",
   "id": "d95ebdce",
   "metadata": {},
   "source": [
    "Analysis of model performance:\n",
    "\n",
    "From the table, we can compare the performance of different regression models using Mean Squared Error (MSE), Mean Absolute Error (MAE), and R² scores.\n",
    "\n",
    "\n",
    "##### 1. Best Model: Random Forest Regressor\n",
    "\n",
    "Lowest MSE (0.012831) and MAE (0.090525) → Indicates the best predictive accuracy.\n",
    "\n",
    "Highest R² Score on Test Data (0.941837) → Suggests it generalizes well.\n",
    "\n",
    "High R² on Train Data (0.984927) → Some risk of overfitting, but still robust.\n",
    "\n",
    "\n",
    "\n",
    "##### 2. Gradient Boosting Regressor (2nd Best)\n",
    "\n",
    "MSE (0.014376) and MAE (0.100092) are slightly higher than Random Forest.\n",
    "\n",
    "Test R² (0.934834) is close to Random Forest but has a higher train R² (0.990164) → Slight overfitting.\n",
    "\n",
    "\n",
    "\n",
    "##### 3. Decision Tree Regressor\n",
    "\n",
    "Higher MSE (0.022054) and MAE (0.101642) than ensemble models.\n",
    "\n",
    "Lower Test R² (0.900032), but very high Train R² (0.998896) → Strong signs of overfitting.\n",
    "\n",
    "\n",
    "\n",
    "##### 4. Linear Regression\n",
    "\n",
    "MSE (0.024603) and MAE (0.125899) are moderate.\n",
    "\n",
    "Test R² (0.888477) is lower than tree-based models, indicating less predictive power.\n",
    "\n",
    "Train R² (0.938718) shows a decent fit, but not as good as Random Forest or Gradient Boosting.\n",
    "\n",
    "\n",
    "\n",
    "##### 5. Worst Model: Support Vector Regressor\n",
    "\n",
    "Highest MSE (0.050895) and MAE (0.140378) → Least accurate model.\n",
    "\n",
    "Lowest Test R² (0.769298) despite a high Train R² (0.956713) → Overfitting with poor generalization.\n",
    "\n",
    "\n",
    "\n",
    "\n",
    "Final Conclusion:\n",
    "\n",
    "Random Forest Regressor is the best-performing model, providing the lowest error and highest R² on test data.\n",
    "\n",
    "Gradient Boosting is a close second, but slightly more prone to overfitting.\n",
    "\n",
    "Decision Tree has strong overfitting issues.\n",
    "\n",
    "Linear Regression is decent but not as effective as tree-based models.\n",
    "\n",
    "Support Vector Regressor performs the worst in terms of both error and R² score.\n",
    "\n",
    "\n",
    "Recommendation:\n",
    "\n",
    "Use Random Forest Regressor for the best balance of accuracy and generalization.\n",
    "\n",
    "If computational efficiency is a concern, Gradient Boosting is a good alternative.\n",
    "\n",
    "Avoid Support Vector Regressor due to poor generalization.\n",
    "\n",
    "\n",
    "\n",
    "\n"
   ]
  },
  {
   "cell_type": "code",
   "execution_count": 51,
   "id": "3b09e697",
   "metadata": {},
   "outputs": [
    {
     "data": {
      "image/png": "[encoded data removed]",
      "text/plain": [
       "<Figure size 432x288 with 1 Axes>"
      ]
     },
     "metadata": {
      "needs_background": "light"
     },
     "output_type": "display_data"
    }
   ],
   "source": [
    "#Plotting the evaluation using bar plot\n",
    "models = results_df['Model'].tolist()\n",
    "R2_score_test = results_df['R2 Score (Test)'].tolist()\n",
    "R2_score_train = results_df['R2 Score (Train)'].tolist()\n",
    "a = np.arange(len(models))\n",
    "plt.bar(a-0.2 ,R2_score_test,0.4,label = \"R2-Score(test)\")\n",
    "plt.bar(a+0.2 ,R2_score_train,0.4,label = \"R2-Score(train)\")\n",
    "plt.ylabel(\"R2-score\")\n",
    "plt.xticks(a,models,rotation = 30,ha = 'right')\n",
    "plt.title(\"Model Comparison - R2-score\")\n",
    "plt.legend()\n",
    "plt.show()"
   ]
  },
  {
   "cell_type": "markdown",
   "id": "abab90b9",
   "metadata": {},
   "source": [
    "### 4. Feature Importance Analysis "
   ]
  },
  {
   "cell_type": "markdown",
   "id": "ad7e2e1b",
   "metadata": {},
   "source": [
    "Identifying the significant variables affecting car prices (feature selection)\n",
    "Since Random Forest Regressor got best results, extractying feature importance from that model.\n"
   ]
  },
  {
   "cell_type": "code",
   "execution_count": null,
   "id": "31ff5967",
   "metadata": {},
   "outputs": [],
   "source": []
  },
  {
   "cell_type": "code",
   "execution_count": 54,
   "id": "b0193254",
   "metadata": {},
   "outputs": [
    {
     "data": {
      "text/html": [
       "<div>\n",
       "<style scoped>\n",
       "    .dataframe tbody tr th:only-of-type {\n",
       "        vertical-align: middle;\n",
       "    }\n",
       "\n",
       "    .dataframe tbody tr th {\n",
       "        vertical-align: top;\n",
       "    }\n",
       "\n",
       "    .dataframe thead th {\n",
       "        text-align: right;\n",
       "    }\n",
       "</style>\n",
       "<table border=\"1\" class=\"dataframe\">\n",
       "  <thead>\n",
       "    <tr style=\"text-align: right;\">\n",
       "      <th></th>\n",
       "      <th>Feature</th>\n",
       "      <th>Importance</th>\n",
       "    </tr>\n",
       "  </thead>\n",
       "  <tbody>\n",
       "    <tr>\n",
       "      <th>5</th>\n",
       "      <td>curbweight</td>\n",
       "      <td>5.906479e-01</td>\n",
       "    </tr>\n",
       "    <tr>\n",
       "      <th>13</th>\n",
       "      <td>highwaympg</td>\n",
       "      <td>1.799044e-01</td>\n",
       "    </tr>\n",
       "    <tr>\n",
       "      <th>6</th>\n",
       "      <td>enginesize</td>\n",
       "      <td>8.189305e-02</td>\n",
       "    </tr>\n",
       "    <tr>\n",
       "      <th>10</th>\n",
       "      <td>horsepower</td>\n",
       "      <td>4.606887e-02</td>\n",
       "    </tr>\n",
       "    <tr>\n",
       "      <th>3</th>\n",
       "      <td>carwidth</td>\n",
       "      <td>1.849837e-02</td>\n",
       "    </tr>\n",
       "    <tr>\n",
       "      <th>2</th>\n",
       "      <td>carlength</td>\n",
       "      <td>1.586045e-02</td>\n",
       "    </tr>\n",
       "    <tr>\n",
       "      <th>1</th>\n",
       "      <td>wheelbase</td>\n",
       "      <td>1.141507e-02</td>\n",
       "    </tr>\n",
       "    <tr>\n",
       "      <th>12</th>\n",
       "      <td>citympg</td>\n",
       "      <td>1.126309e-02</td>\n",
       "    </tr>\n",
       "    <tr>\n",
       "      <th>11</th>\n",
       "      <td>peakrpm</td>\n",
       "      <td>6.565897e-03</td>\n",
       "    </tr>\n",
       "    <tr>\n",
       "      <th>8</th>\n",
       "      <td>stroke</td>\n",
       "      <td>5.425843e-03</td>\n",
       "    </tr>\n",
       "    <tr>\n",
       "      <th>4</th>\n",
       "      <td>carheight</td>\n",
       "      <td>5.119387e-03</td>\n",
       "    </tr>\n",
       "    <tr>\n",
       "      <th>18</th>\n",
       "      <td>carbody_hatchback</td>\n",
       "      <td>3.985408e-03</td>\n",
       "    </tr>\n",
       "    <tr>\n",
       "      <th>7</th>\n",
       "      <td>boreratio</td>\n",
       "      <td>3.482209e-03</td>\n",
       "    </tr>\n",
       "    <tr>\n",
       "      <th>9</th>\n",
       "      <td>compressionratio</td>\n",
       "      <td>3.136970e-03</td>\n",
       "    </tr>\n",
       "    <tr>\n",
       "      <th>26</th>\n",
       "      <td>enginetype_ohc</td>\n",
       "      <td>2.098956e-03</td>\n",
       "    </tr>\n",
       "    <tr>\n",
       "      <th>0</th>\n",
       "      <td>symboling</td>\n",
       "      <td>1.768096e-03</td>\n",
       "    </tr>\n",
       "    <tr>\n",
       "      <th>36</th>\n",
       "      <td>fuelsystem_2bbl</td>\n",
       "      <td>1.599716e-03</td>\n",
       "    </tr>\n",
       "    <tr>\n",
       "      <th>19</th>\n",
       "      <td>carbody_sedan</td>\n",
       "      <td>1.552213e-03</td>\n",
       "    </tr>\n",
       "    <tr>\n",
       "      <th>40</th>\n",
       "      <td>fuelsystem_mpfi</td>\n",
       "      <td>1.547365e-03</td>\n",
       "    </tr>\n",
       "    <tr>\n",
       "      <th>16</th>\n",
       "      <td>doornumber_two</td>\n",
       "      <td>1.232557e-03</td>\n",
       "    </tr>\n",
       "    <tr>\n",
       "      <th>31</th>\n",
       "      <td>cylindernumber_four</td>\n",
       "      <td>1.136378e-03</td>\n",
       "    </tr>\n",
       "    <tr>\n",
       "      <th>22</th>\n",
       "      <td>drivewheel_rwd</td>\n",
       "      <td>1.043684e-03</td>\n",
       "    </tr>\n",
       "    <tr>\n",
       "      <th>20</th>\n",
       "      <td>carbody_wagon</td>\n",
       "      <td>7.682138e-04</td>\n",
       "    </tr>\n",
       "    <tr>\n",
       "      <th>21</th>\n",
       "      <td>drivewheel_fwd</td>\n",
       "      <td>7.558450e-04</td>\n",
       "    </tr>\n",
       "    <tr>\n",
       "      <th>15</th>\n",
       "      <td>aspiration_turbo</td>\n",
       "      <td>7.290731e-04</td>\n",
       "    </tr>\n",
       "    <tr>\n",
       "      <th>17</th>\n",
       "      <td>carbody_hardtop</td>\n",
       "      <td>6.772214e-04</td>\n",
       "    </tr>\n",
       "    <tr>\n",
       "      <th>32</th>\n",
       "      <td>cylindernumber_six</td>\n",
       "      <td>5.260120e-04</td>\n",
       "    </tr>\n",
       "    <tr>\n",
       "      <th>14</th>\n",
       "      <td>fueltype_gas</td>\n",
       "      <td>4.175220e-04</td>\n",
       "    </tr>\n",
       "    <tr>\n",
       "      <th>35</th>\n",
       "      <td>cylindernumber_two</td>\n",
       "      <td>2.363230e-04</td>\n",
       "    </tr>\n",
       "    <tr>\n",
       "      <th>41</th>\n",
       "      <td>fuelsystem_spdi</td>\n",
       "      <td>1.689606e-04</td>\n",
       "    </tr>\n",
       "    <tr>\n",
       "      <th>27</th>\n",
       "      <td>enginetype_ohcf</td>\n",
       "      <td>1.261606e-04</td>\n",
       "    </tr>\n",
       "    <tr>\n",
       "      <th>28</th>\n",
       "      <td>enginetype_ohcv</td>\n",
       "      <td>1.021543e-04</td>\n",
       "    </tr>\n",
       "    <tr>\n",
       "      <th>38</th>\n",
       "      <td>fuelsystem_idi</td>\n",
       "      <td>7.409043e-05</td>\n",
       "    </tr>\n",
       "    <tr>\n",
       "      <th>30</th>\n",
       "      <td>cylindernumber_five</td>\n",
       "      <td>5.940503e-05</td>\n",
       "    </tr>\n",
       "    <tr>\n",
       "      <th>42</th>\n",
       "      <td>fuelsystem_spfi</td>\n",
       "      <td>5.437194e-05</td>\n",
       "    </tr>\n",
       "    <tr>\n",
       "      <th>37</th>\n",
       "      <td>fuelsystem_4bbl</td>\n",
       "      <td>2.133347e-05</td>\n",
       "    </tr>\n",
       "    <tr>\n",
       "      <th>25</th>\n",
       "      <td>enginetype_l</td>\n",
       "      <td>1.769033e-05</td>\n",
       "    </tr>\n",
       "    <tr>\n",
       "      <th>29</th>\n",
       "      <td>enginetype_rotor</td>\n",
       "      <td>1.682568e-05</td>\n",
       "    </tr>\n",
       "    <tr>\n",
       "      <th>39</th>\n",
       "      <td>fuelsystem_mfi</td>\n",
       "      <td>2.912744e-06</td>\n",
       "    </tr>\n",
       "    <tr>\n",
       "      <th>24</th>\n",
       "      <td>enginetype_dohcv</td>\n",
       "      <td>3.941545e-16</td>\n",
       "    </tr>\n",
       "    <tr>\n",
       "      <th>23</th>\n",
       "      <td>enginelocation_rear</td>\n",
       "      <td>6.784986e-17</td>\n",
       "    </tr>\n",
       "    <tr>\n",
       "      <th>34</th>\n",
       "      <td>cylindernumber_twelve</td>\n",
       "      <td>0.000000e+00</td>\n",
       "    </tr>\n",
       "    <tr>\n",
       "      <th>33</th>\n",
       "      <td>cylindernumber_three</td>\n",
       "      <td>0.000000e+00</td>\n",
       "    </tr>\n",
       "  </tbody>\n",
       "</table>\n",
       "</div>"
      ],
      "text/plain": [
       "                  Feature    Importance\n",
       "5              curbweight  5.906479e-01\n",
       "13             highwaympg  1.799044e-01\n",
       "6              enginesize  8.189305e-02\n",
       "10             horsepower  4.606887e-02\n",
       "3                carwidth  1.849837e-02\n",
       "2               carlength  1.586045e-02\n",
       "1               wheelbase  1.141507e-02\n",
       "12                citympg  1.126309e-02\n",
       "11                peakrpm  6.565897e-03\n",
       "8                  stroke  5.425843e-03\n",
       "4               carheight  5.119387e-03\n",
       "18      carbody_hatchback  3.985408e-03\n",
       "7               boreratio  3.482209e-03\n",
       "9        compressionratio  3.136970e-03\n",
       "26         enginetype_ohc  2.098956e-03\n",
       "0               symboling  1.768096e-03\n",
       "36        fuelsystem_2bbl  1.599716e-03\n",
       "19          carbody_sedan  1.552213e-03\n",
       "40        fuelsystem_mpfi  1.547365e-03\n",
       "16         doornumber_two  1.232557e-03\n",
       "31    cylindernumber_four  1.136378e-03\n",
       "22         drivewheel_rwd  1.043684e-03\n",
       "20          carbody_wagon  7.682138e-04\n",
       "21         drivewheel_fwd  7.558450e-04\n",
       "15       aspiration_turbo  7.290731e-04\n",
       "17        carbody_hardtop  6.772214e-04\n",
       "32     cylindernumber_six  5.260120e-04\n",
       "14           fueltype_gas  4.175220e-04\n",
       "35     cylindernumber_two  2.363230e-04\n",
       "41        fuelsystem_spdi  1.689606e-04\n",
       "27        enginetype_ohcf  1.261606e-04\n",
       "28        enginetype_ohcv  1.021543e-04\n",
       "38         fuelsystem_idi  7.409043e-05\n",
       "30    cylindernumber_five  5.940503e-05\n",
       "42        fuelsystem_spfi  5.437194e-05\n",
       "37        fuelsystem_4bbl  2.133347e-05\n",
       "25           enginetype_l  1.769033e-05\n",
       "29       enginetype_rotor  1.682568e-05\n",
       "39         fuelsystem_mfi  2.912744e-06\n",
       "24       enginetype_dohcv  3.941545e-16\n",
       "23    enginelocation_rear  6.784986e-17\n",
       "34  cylindernumber_twelve  0.000000e+00\n",
       "33   cylindernumber_three  0.000000e+00"
      ]
     },
     "execution_count": 54,
     "metadata": {},
     "output_type": "execute_result"
    }
   ],
   "source": [
    "from sklearn.feature_selection import SelectFromModel\n",
    "feature_importance = rf_model.feature_importances_\n",
    "#Creating a dataframe\n",
    "feature_importance_df = pd.DataFrame({'Feature' : x.columns, \n",
    "                                      'Importance' : feature_importance\n",
    "                                     }).sort_values(by='Importance',ascending=False)\n",
    "#Displaying the top features\n",
    "feature_importance_df\n"
   ]
  },
  {
   "cell_type": "markdown",
   "id": "c3b0cb69",
   "metadata": {},
   "source": [
    "From the feature importance results, \n",
    "Feature \tImportance\n",
    "curbweight\t5.906479e-01\n",
    "highwaympg\t1.799044e-01\n",
    "enginesize\t8.189305e-02\n",
    "horsepower\t4.606887e-02\n",
    "carwidth\t1.849837e-02\n",
    "These features can consider as the most important factors affecting car price."
   ]
  },
  {
   "cell_type": "markdown",
   "id": "59a77ca5",
   "metadata": {},
   "source": [
    "### 5.Hyperparameter Tuning"
   ]
  },
  {
   "cell_type": "code",
   "execution_count": 55,
   "id": "c1c913ee",
   "metadata": {},
   "outputs": [
    {
     "name": "stdout",
     "output_type": "stream",
     "text": [
      "Best Parameters: {'max_depth': 20, 'min_samples_leaf': 1, 'min_samples_split': 2, 'n_estimators': 200}\n"
     ]
    }
   ],
   "source": [
    "#performing hyper parameter tuning to performances of model, to find the best hyperparametres.\n",
    "from sklearn.model_selection import GridSearchCV\n",
    "#Defining the parameter grid:\n",
    "param_grid = {'n_estimators': [50,100, 200],\n",
    "             'max_depth': [10,20,None],\n",
    "             'min_samples_split': [2, 5, 10],\n",
    "              'min_samples_leaf': [1,2,4]\n",
    "             }\n",
    "#Initializing the model:\n",
    "rf_model = RandomForestRegressor(random_state=42)\n",
    "#Performing grid search:\n",
    "grid_search = GridSearchCV(RandomForestRegressor(random_state=42), param_grid, cv=5)\n",
    "grid_search.fit(x_train, y_train)\n",
    "#Best parameters:\n",
    "print(\"Best Parameters:\", grid_search.best_params_)\n",
    "#Evaluating on the test data:\n",
    "best_rfmodel = grid_search.best_estimator_\n",
    "y_pred_tuned = best_rfmodel.predict(x_test)"
   ]
  },
  {
   "cell_type": "code",
   "execution_count": 56,
   "id": "0126770e",
   "metadata": {},
   "outputs": [
    {
     "name": "stdout",
     "output_type": "stream",
     "text": [
      "Tuned model R2-Score:  0.9353371903665024\n",
      "tuned model MAE:  0.0954389285173897\n",
      "Tuned model MSE:  0.014265319065163205\n"
     ]
    }
   ],
   "source": [
    "#evaluating tuned model - Gradient Boosting Regressor\n",
    "y_pred_tuned = best_gbmodel.predict(x_test)\n",
    "r2_tuned = r2_score(y_test,y_pred_tuned)\n",
    "mae_tuned = mean_absolute_error(y_test,y_pred_tuned)\n",
    "mse_tuned = mean_squared_error(y_test,y_pred_tuned)\n",
    "print(\"Tuned model R2-Score: \",r2_tuned)\n",
    "print(\"tuned model MAE: \",mae_tuned)\n",
    "print(\"Tuned model MSE: \",mse_tuned)\n"
   ]
  }
 ],
 "metadata": {
  "kernelspec": {
   "display_name": "Python 3 (ipykernel)",
   "language": "python",
   "name": "python3"
  },
  "language_info": {
   "codemirror_mode": {
    "name": "ipython",
    "version": 3
   },
   "file_extension": ".py",
   "mimetype": "text/x-python",
   "name": "python",
   "nbconvert_exporter": "python",
   "pygments_lexer": "ipython3",
   "version": "3.9.12"
  }
 },
 "nbformat": 4,
 "nbformat_minor": 5
}
